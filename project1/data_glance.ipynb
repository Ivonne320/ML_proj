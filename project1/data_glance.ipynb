{
 "cells": [
  {
   "cell_type": "code",
   "execution_count": 1,
   "metadata": {},
   "outputs": [],
   "source": [
    "# import pandas as pd\n",
    "%matplotlib inline\n",
    "import numpy as np\n",
    "import matplotlib.pyplot as plt\n",
    "from helpers import *\n",
    "from implementations import *\n",
    "# import SVM"
   ]
  },
  {
   "cell_type": "markdown",
   "metadata": {},
   "source": [
    "### Prepare the data ###"
   ]
  },
  {
   "cell_type": "markdown",
   "metadata": {},
   "source": [
    "Procedure: 1. normalize coding for missing values: check each feature, assign NaN to values > 95% percentile. --> 2. check each row, drop the rows where over 50% of the features are NaN. Also remove the corresponding y  --> 3. Check each columns, drop the feature where over 50% of the rows are NaN or std == 0. Record the index for test set. --> 4. Handling NaN values: check for categorical feature (record the index), assign NaN to mean for non-categorical and majority label for categorial. --> 5. One-hot encoding for categorical data. --> 6. Standardize (skip categorical 0-1 columns)  --> 7. Regard a datapoint having more than 30% of the features with Z-score>2.5 as outliers, remove from x and corresponding y. --> 8. Data Augmentation --> 9. PCA "
   ]
  },
  {
   "cell_type": "code",
   "execution_count": 2,
   "metadata": {},
   "outputs": [],
   "source": [
    "x_train, x_test, y_train, train_ids, test_ids = load_csv_data(\"./data/dataset_to_release\", sub_sample=False)"
   ]
  },
  {
   "cell_type": "code",
   "execution_count": 3,
   "metadata": {},
   "outputs": [
    {
     "name": "stdout",
     "output_type": "stream",
     "text": [
      "(6563, 321)\n",
      "(6563,)\n"
     ]
    }
   ],
   "source": [
    "print(x_train.shape)\n",
    "print(y_train.shape)"
   ]
  },
  {
   "cell_type": "code",
   "execution_count": 4,
   "metadata": {},
   "outputs": [],
   "source": [
    "# x_sub, y_sub = split_cross_validation(x_train, y_train, 10)\n",
    "# np.shape(x_sub[0])"
   ]
  },
  {
   "cell_type": "code",
   "execution_count": 3,
   "metadata": {},
   "outputs": [
    {
     "name": "stdout",
     "output_type": "stream",
     "text": [
      "(317917, 201)\n",
      "(317917, 568)\n",
      "(317917,)\n"
     ]
    }
   ],
   "source": [
    "# thresholds for nans\n",
    "row_nan = 0.6\n",
    "feature_nan = 0.8\n",
    "# threshold for categorical features\n",
    "threshold_cat = 10\n",
    "# threshold for outliers\n",
    "z_threshold=2\n",
    "feature_threshold=0.2\n",
    "\n",
    "x_train_processed = x_train.copy()\n",
    "y_train_processed = y_train.copy()\n",
    "\n",
    "# transform y to 0-1 encoding\n",
    "y_train_processed = process_y(y_train_processed)\n",
    "\n",
    "# Uniform missing value encoding\n",
    "# x_train_processed = normalize_nan(x_train_processed)\n",
    "# Remove rows with too many nans\n",
    "x_train_processed, y_train_processed = drop_rows(x_train_processed, y_train_processed, row_nan) # 0.55 remains 6101 rows\n",
    "# x_train_processed.shape\n",
    "# Remove features with too many nans\n",
    "x_train_processed, nan_indices = drop_features(x_train_processed, feature_nan) # 0.5 remains 174 features\n",
    "x_test_processed = x_test[:, nan_indices].copy()\n",
    "print(x_train_processed.shape)\n",
    "\n",
    "# get categorical feature indices\n",
    "cat_indices = check_categorical(x_train_processed, threshold_cat)\n",
    "# handling remaining nans\n",
    "x_train_processed = fillna(x_train_processed, cat_indices)\n",
    "x_test_processed = fillna(x_test_processed, cat_indices)\n",
    "\n",
    "# One hot encoding for categorical features\n",
    "\n",
    "x_train_processed, x_test_processed = one_hot_encoding(x_train_processed, x_test_processed, cat_indices)\n",
    "\n",
    "x_train_processed, train_mean, train_std = standardize(x_train_processed)\n",
    "x_test_processed = (x_test_processed - train_mean) / train_std\n",
    "# x_train_processed, y_train_processed = z_outlier_removal(x_train_processed, y_train_processed, z_threshold, feature_threshold)\n",
    "print(x_train_processed.shape)\n",
    "print(y_train_processed.shape)\n",
    "# x_train_processed = add_bias(x_train_processed)\n"
   ]
  },
  {
   "cell_type": "code",
   "execution_count": 4,
   "metadata": {},
   "outputs": [
    {
     "data": {
      "text/plain": [
       "(109379, 568)"
      ]
     },
     "execution_count": 4,
     "metadata": {},
     "output_type": "execute_result"
    }
   ],
   "source": [
    "x_test_processed.shape"
   ]
  },
  {
   "cell_type": "code",
   "execution_count": 6,
   "metadata": {},
   "outputs": [
    {
     "data": {
      "text/plain": [
       "550"
      ]
     },
     "execution_count": 6,
     "metadata": {},
     "output_type": "execute_result"
    }
   ],
   "source": [
    "np.sum(y_train_processed==1)"
   ]
  },
  {
   "cell_type": "code",
   "execution_count": 7,
   "metadata": {},
   "outputs": [
    {
     "name": "stdout",
     "output_type": "stream",
     "text": [
      "(6368, 586)\n",
      "(6368,)\n",
      "0\n"
     ]
    }
   ],
   "source": [
    "print(x_train_processed.shape)\n",
    "print(y_train_processed.shape)\n",
    "print(np.sum(x_train_processed.std(axis=0) == 0))"
   ]
  },
  {
   "cell_type": "code",
   "execution_count": 8,
   "metadata": {},
   "outputs": [],
   "source": [
    "# x_train_processed_orig = x_train.copy()\n",
    "# x_train_processed_orig = fillna_with_mean(x_train_processed_orig, threshold=threshold_nan)\n",
    "# x_train_processed_orig = standardize(x_train_processed_orig)\n",
    "# x_train_processed_orig = polynomial_expansion_single(x_train_processed_orig, degree=2)\n",
    "# x_train_processed_orig = standardize(x_train_processed_orig)\n",
    "# x_train_processed_orig = add_bias(x_train_processed_orig)\n",
    "# # add a column of ones\n",
    "# y_train_processed_orig = y_train.copy()\n",
    "# y_train_processed_orig = process_y(y_train_processed_orig)\n",
    "# print(np.isnan(x_train_processed_orig).any())"
   ]
  },
  {
   "cell_type": "code",
   "execution_count": 9,
   "metadata": {},
   "outputs": [],
   "source": [
    "# print(x_train_processed_orig.shape)\n",
    "# print(y_train_processed_orig.shape)"
   ]
  },
  {
   "cell_type": "code",
   "execution_count": 10,
   "metadata": {},
   "outputs": [],
   "source": [
    "# ## PCA feature selection \n",
    "# pre_train_data = x_train_processed.copy()\n",
    "\n",
    "# x_pca, eig_vec, eig_val,weight = pca(pre_train_data, 200)\n",
    "# print(weight)"
   ]
  },
  {
   "cell_type": "code",
   "execution_count": 11,
   "metadata": {},
   "outputs": [],
   "source": [
    "# x_pca.shape"
   ]
  },
  {
   "cell_type": "code",
   "execution_count": 12,
   "metadata": {},
   "outputs": [],
   "source": [
    "# cummulation = np.cumsum(weight)\n",
    "## cummulation\n",
    "# plt.plot(cummulation)"
   ]
  },
  {
   "cell_type": "code",
   "execution_count": 13,
   "metadata": {},
   "outputs": [],
   "source": [
    "# x_pca.shape"
   ]
  },
  {
   "cell_type": "markdown",
   "metadata": {},
   "source": [
    "### Experiment ###"
   ]
  },
  {
   "cell_type": "code",
   "execution_count": 14,
   "metadata": {},
   "outputs": [],
   "source": [
    "# ## linear regression using all the features except for those having NaN values over 50% ##\n",
    "# x_t, y_t, x_v, y_v = split_data(add_bias(x_train_processed), y_train_processed, 0.9)\n",
    "# # x_t, y_t = data_augmentation(x_t, y_t)\n",
    "# initial_w = np.random.randn(x_t.shape[1]) * 0.01\n",
    "# w, loss = mean_square_error_gd(y_t, x_t, initial_w, max_iters=500, gamma=0.01)\n",
    "# y_pred = x_v @ w\n",
    "# y_pred_mean = np.mean(y_pred)\n",
    "# y_pred = (y_pred > y_pred_mean).astype(int)\n",
    "# predict_acc_pure(y_pred, y_v)\n",
    "# predict_f1_pure(y_pred, y_v)"
   ]
  },
  {
   "cell_type": "code",
   "execution_count": 15,
   "metadata": {},
   "outputs": [],
   "source": [
    "# x_train_processed.shape"
   ]
  },
  {
   "cell_type": "code",
   "execution_count": 16,
   "metadata": {},
   "outputs": [],
   "source": [
    "# # logistic regression using all the features except for those having NaN values over 50% ##\n",
    "# x_t, y_t, x_v, y_v = split_data(add_bias(x_train_processed), y_train_processed, 0.9)\n",
    "# x_t, y_t = data_augmentation(x_t, y_t)\n",
    "# initial_w = np.random.randn(x_t.shape[1]) * 0.01\n",
    "# w, loss = logistic_regression(y_t, x_t, initial_w, max_iters=500, gamma=0.1)\n",
    "# y_pred = sigmoid(x_v @ w)\n",
    "# y_pred = (y_pred >= 0.7).astype(int)\n",
    "# predict_acc_pure(y_pred, y_v)\n",
    "# predict_f1_pure(y_pred, y_v)"
   ]
  },
  {
   "cell_type": "code",
   "execution_count": 17,
   "metadata": {},
   "outputs": [],
   "source": [
    "# # logistic regression\n",
    "# x_t, y_t, x_v, y_v = split_data(add_bias(x_train_processed), y_train_processed, 0.9)\n",
    "# x_t, y_t = data_augmentation(x_t, y_t)\n",
    "# initial_w = np.random.randn(x_t.shape[1]) * 0.01\n",
    "# w, loss = reg_logistic_regression(y_t, x_t, lambda_=0.1, initial_w=initial_w, max_iters=500, gamma=0.15)\n",
    "# y_pred = (x_v @ w >= 0.75).astype(int)\n",
    "# predict_acc_pure(y_pred, y_v)\n",
    "# predict_f1_pure(y_pred, y_v)"
   ]
  },
  {
   "cell_type": "code",
   "execution_count": 18,
   "metadata": {},
   "outputs": [],
   "source": [
    "# # ridge regression using all the features except for those having NaN values over 50% ##\n",
    "# x_t, y_t, x_v, y_v = split_data(add_bias(x_train_processed), y_train_processed, 0.9)\n",
    "# x_t, y_t = data_augmentation(x_t, y_t)\n",
    "# w, loss = ridge_regression(y_t, x_t, lambda_=0.01)\n",
    "# y_pred = x_v @ w\n",
    "# y_pred_mean = np.mean(y_pred)\n",
    "# y_pred = (y_pred > y_pred_mean).astype(int)\n",
    "# predict_acc_pure(y_pred, y_v)\n",
    "# predict_f1_pure(y_pred, y_v)"
   ]
  },
  {
   "cell_type": "markdown",
   "metadata": {},
   "source": [
    "#### Hinge loss gradient descent"
   ]
  },
  {
   "cell_type": "code",
   "execution_count": 19,
   "metadata": {},
   "outputs": [],
   "source": [
    "# accs = []\n",
    "# f1 = []\n",
    "# for i in range(10):\n",
    "#     x_t, y_t, x_v, y_v = split_data(x_train_processed, y_train_processed, 0.9)\n",
    "#     x_t, y_t = data_augmentation(x_t, y_t)\n",
    "#     initial_w = np.random.randn(x_t.shape[1]) * 0.01\n",
    "#     w, loss = hinge_regression(y_t, x_t, initial_w, lambda_=0.1, max_iters=500, gamma=0.01)\n",
    "#     y_pred = ((x_v @ w) > 0.5).astype(int)\n",
    "#     accs.append(predict_acc_pure(y_pred, y_v))\n",
    "#     f1.append(predict_f1_pure(y_pred, y_v))\n",
    "# print(\"Final accuracy score is: \", np.mean(accs))\n",
    "# print(\"Final f1 score is: \", np.mean(f1))"
   ]
  },
  {
   "cell_type": "code",
   "execution_count": 20,
   "metadata": {},
   "outputs": [],
   "source": [
    "# import sklearn.svm as svm\n",
    "# cls = svm.SVC(C=50, kernel='rbf')\n",
    "# x_t, y_t, x_v, y_v = split_data(x_train_processed_hinge, y_train_processed_hinge, 0.9)\n",
    "# cls.fit(x_t, y_t)\n",
    "# y_pred = cls.predict(x_v)\n",
    "# predict_acc_pure(y_pred, y_v)\n",
    "# predict_f1_pure(y_pred, y_v)"
   ]
  },
  {
   "cell_type": "markdown",
   "metadata": {},
   "source": [
    "#### PCA"
   ]
  },
  {
   "cell_type": "code",
   "execution_count": 21,
   "metadata": {},
   "outputs": [],
   "source": [
    "# ## linear regression using PCA feature selection ##\n",
    "# x_pca_t = add_bias(x_pca)\n",
    "# x_t, y_t, x_v, y_v = split_data(x_pca_t, y_train_processed, 0.9)\n",
    "# # x_t, y_t = data_augmentation(x_t, y_t)\n",
    "# initial_w = np.random.randn(x_pca_t.shape[1]) * 0.01\n",
    "# w, loss = mean_square_error_gd(y_t, x_t, initial_w, max_iters = 500, gamma=0.05)\n",
    "# y_pred = x_v @ w\n",
    "# y_pred_mean = np.mean(y_pred)\n",
    "# y_pred = (y_pred >= y_pred_mean).astype(int)\n",
    "# predict_acc_pure(y_pred, y_v)\n",
    "# predict_f1_pure(y_pred, y_v)"
   ]
  },
  {
   "cell_type": "code",
   "execution_count": 22,
   "metadata": {},
   "outputs": [],
   "source": [
    "# # logistic regression using pca feature selection #\n",
    "# x_pca_t = add_bias(x_pca)\n",
    "# x_t, y_t, x_v, y_v = split_data(x_pca_t, y_train_processed, 0.9)\n",
    "# x_t, y_t = data_augmentation(x_t, y_t)\n",
    "# initial_w = np.random.randn(x_pca_t.shape[1]) * 0.01\n",
    "# w, loss = logistic_regression(y_t, x_t, initial_w, max_iters=500, gamma=0.15)\n",
    "# y_pred = sigmoid(x_v @ w)\n",
    "# y_pred = (y_pred >= 0.7).astype(int)\n",
    "# predict_acc_pure(y_pred, y_v)\n",
    "# predict_f1_pure(y_pred, y_v)"
   ]
  },
  {
   "cell_type": "code",
   "execution_count": 23,
   "metadata": {},
   "outputs": [],
   "source": [
    "# # logistic regression using pca feature selection #\n",
    "# initial_w = np.random.randn(x_pca.shape[1]) * 0.01\n",
    "# w, loss = reg_logistic_regression(y_train_processed, x_pca, lambda_=0.01, initial_w=initial_w, max_iters=100, gamma=0.15)\n",
    "# predict_acc(x_train_processed_orig_pca, y_train_processed_orig, w, logistic=False, threshold=0.85)\n",
    "# predict_f1(x_train_processed_orig_pca, y_train_processed_orig, w, logistic=False, threshold=0.85)"
   ]
  },
  {
   "cell_type": "code",
   "execution_count": 24,
   "metadata": {},
   "outputs": [],
   "source": [
    "# x_t, y_t, x_v, y_v = split_data(x_pca, y_train_processed, 0.9)\n",
    "# x_t, y_t = data_augmentation(x_t, y_t)\n",
    "# initial_w = np.random.randn(x_t.shape[1]) * 0.01\n",
    "# w, loss = hinge_regression(y_t, x_t, initial_w, lambda_=0.3, max_iters=500, gamma=0.01)\n",
    "# y_pred = ((x_v @ w) > 1).astype(int)\n",
    "# predict_acc_pure(y_pred, y_v)\n",
    "# predict_f1_pure(y_pred, y_v)"
   ]
  },
  {
   "cell_type": "markdown",
   "metadata": {},
   "source": [
    "### Apply SVM to classification task"
   ]
  },
  {
   "cell_type": "code",
   "execution_count": 25,
   "metadata": {},
   "outputs": [],
   "source": [
    "# w_svm, b_svm = SVM.gradient_descent(x_train_processed_orig_pca[:, 1:], y_train_processed_orig, epochs=500, lr=0.3)"
   ]
  },
  {
   "cell_type": "code",
   "execution_count": 26,
   "metadata": {},
   "outputs": [],
   "source": [
    "# np.shape(x_train)"
   ]
  },
  {
   "cell_type": "markdown",
   "metadata": {},
   "source": [
    "### Apply Neural Network ###"
   ]
  },
  {
   "cell_type": "code",
   "execution_count": 6,
   "metadata": {},
   "outputs": [],
   "source": [
    "def predict_1(network, X):\n",
    "    \n",
    "    # Get the final activations from forward propagation\n",
    "    # a2 = forward_propagation(network, X)[-1]\n",
    "    a4 = forward_propagation(network, X)[-1]\n",
    "    \n",
    "    # Convert activations to binary predictions (0 or 1)\n",
    "    # predictions = (np.squeeze(a2) > 0.5).astype(int)\n",
    "    predictions = (np.squeeze(a4) > 0.15).astype(int)\n",
    "    \n",
    "    return predictions"
   ]
  },
  {
   "cell_type": "code",
   "execution_count": 19,
   "metadata": {},
   "outputs": [
    {
     "name": "stdout",
     "output_type": "stream",
     "text": [
      "The Accuracy is: 0.8197\n",
      "The F1 score is: 0.3438\n",
      "The precision is: 0.2564\n",
      "The recall is: 0.5217\n"
     ]
    },
    {
     "data": {
      "text/plain": [
       "[<matplotlib.lines.Line2D at 0x7f8214dcf490>]"
      ]
     },
     "execution_count": 19,
     "metadata": {},
     "output_type": "execute_result"
    },
    {
     "data": {
      "image/png": "[encoded data removed]",
      "text/plain": [
       "<Figure size 640x480 with 1 Axes>"
      ]
     },
     "metadata": {},
     "output_type": "display_data"
    }
   ],
   "source": [
    "y_pred = predict_1(nn_trained,x_v)\n",
    "predict_acc_pure(y_pred, y_v)\n",
    "predict_f1_pure(y_pred, y_v)\n",
    "plt.figure()\n",
    "plt.plot(loss)"
   ]
  },
  {
   "cell_type": "code",
   "execution_count": 11,
   "metadata": {},
   "outputs": [
    {
     "name": "stdout",
     "output_type": "stream",
     "text": [
      "Epoch: 0 Loss: 0.5392757514593759 Validation F1: [0.21376574355814043, 0.2549330056478484, 0.2888721846376569, 0.3202539516313774, 0.35004847779716886, 0.37785513327929043, 0.3956433947255706, 0.373370415435425, 0.21707748876481003] Validation Acc: [0.3579202315047811, 0.5041362606945143, 0.5982794413688979, 0.673329768495219, 0.7364274031202819, 0.7948068696527428, 0.8446621791645696, 0.8866066935078007, 0.9095841721187721]\n",
      "Epoch: 2 Loss: 0.427933897121662 Validation F1: [0.22568837190385166, 0.2636867127383228, 0.29552697473252904, 0.3257752255947498, 0.35531205700931007, 0.3834960397863327, 0.40464248221159455, 0.40252707581227437, 0.24768702088289718] Validation Acc: [0.40117010568696526, 0.5274597382989431, 0.6106253145445395, 0.676852667337695, 0.7353579516859587, 0.789443885254152, 0.8394564670357323, 0.8854743331655762, 0.9104806240563664]\n",
      "Epoch: 4 Loss: 0.44293927947221884 Validation F1: [0.23104045398593812, 0.26907539831890603, 0.30066879906949695, 0.33107382550335573, 0.3604084838963079, 0.38860103626943004, 0.4110667223182875, 0.4068390325271059, 0.2478609625668449] Validation Acc: [0.4203415953699044, 0.541850150981379, 0.62176019124308, 0.6864934574735783, 0.7438978359335682, 0.7958605938600906, 0.8446621791645696, 0.888147961751384, 0.9115186210367388]\n",
      "Epoch: 6 Loss: 0.4862842476793336 Validation F1: [0.22720392718347307, 0.26456739258387285, 0.2946350292711898, 0.3251174089068826, 0.35435299445262086, 0.38466390340601914, 0.4086241134751773, 0.4123207814715613, 0.2732840010206685] Validation Acc: [0.4057939104177152, 0.5283719174635129, 0.6077472320080524, 0.6722917715148465, 0.730922873678913, 0.7851975339708103, 0.8360751132360342, 0.8826748867639658, 0.910417715148465]\n",
      "Epoch: 8 Loss: 0.4528108078733312 Validation F1: [0.2445430425185615, 0.28588529763848075, 0.32058241267003, 0.35166803492797966, 0.37960190241324643, 0.4065223202352312, 0.4143676591095329, 0.387420668750592, 0.1976911976911977] Validation Acc: [0.46711436839456466, 0.5871917463512834, 0.6653560644187216, 0.7267551585304479, 0.7784348263714141, 0.8254120533467539, 0.8651233014594867, 0.8982920231504781, 0.9125566180171112]\n",
      "Epoch: 10 Loss: 0.4737338566575101 Validation F1: [0.24146716450691852, 0.2809439120855785, 0.312528923580045, 0.343761185482139, 0.37331655129011954, 0.3979658627460853, 0.4156672620566471, 0.40115465360391883, 0.23710777626193727] Validation Acc: [0.45684448917966786, 0.5739651484650227, 0.6495502013085053, 0.7116570206341218, 0.7650824106693508, 0.8119495470558631, 0.8559386009058882, 0.8923314041268243, 0.9120533467539004]\n",
      "Epoch: 12 Loss: 0.45790588262767196 Validation F1: [0.23827152475590482, 0.2768789891884851, 0.30822683464757245, 0.3388790066617837, 0.36677524429967434, 0.3931557456737313, 0.41210339336028423, 0.4022140221402215, 0.2556510244547257] Validation Acc: [0.4466375188726724, 0.5634593608454957, 0.6398936839456467, 0.7018904126824358, 0.7554101660795168, 0.8036612984398591, 0.8490500754906894, 0.8878963261197785, 0.9114399849018621]\n",
      "Epoch: 14 Loss: 0.39659494703847264 Validation F1: [0.24498647409957747, 0.28208971202226746, 0.31290242694403164, 0.3419818026727324, 0.3676337634585354, 0.39261239368165246, 0.4118711545421643, 0.4049586776859504, 0.28080374067989383] Validation Acc: [0.46887581781580273, 0.5781328636134877, 0.6509184700553599, 0.7088261197785607, 0.7579894313034726, 0.8034568444891796, 0.8466595369904378, 0.8844992450931052, 0.9104963512833417]\n",
      "Epoch: 16 Loss: 0.3657489059374875 Validation F1: [0.24549675856344919, 0.2818698402487402, 0.31241093004523207, 0.3398409768564532, 0.3657227162821196, 0.39149888143176736, 0.4103369158314213, 0.4015920721306149, 0.274415666456096] Validation Acc: [0.47101472068444894, 0.5786361348766985, 0.6509499245093106, 0.7075050327126321, 0.7565897081026673, 0.8032209360845496, 0.8464079013588324, 0.8841375188726723, 0.909678535480624]\n",
      "Epoch: 18 Loss: 0.3891616437175553 Validation F1: [0.26304390628076385, 0.30400095975046487, 0.33620416915667733, 0.3608130081300813, 0.38615217493978177, 0.4042696629213483, 0.4133768125997363, 0.38436840656820476, 0.23172226004084412] Validation Acc: [0.5290639154504277, 0.6350339708102667, 0.7030227730246603, 0.7527050830397585, 0.7955932310015098, 0.8332284851534978, 0.8670262959235028, 0.8944545797684952, 0.911251258178158]\n",
      "Epoch: 20 Loss: 0.33772674056928903 Validation F1: [0.25159132091251224, 0.28744478092962517, 0.31796614516542704, 0.34323601597128095, 0.36764705882352944, 0.3894041041831097, 0.40809667673716016, 0.3983759254836398, 0.2913022351797862] Validation Acc: [0.49333165576245597, 0.5966438097634625, 0.665418973326623, 0.7180265475591344, 0.7633052340211374, 0.805328384499245, 0.8459360845495723, 0.8811493457473578, 0.9082473578258682]\n",
      "Early stopping at epoch 22\n"
     ]
    },
    {
     "data": {
      "text/plain": [
       "[<matplotlib.lines.Line2D at 0x7f9f980a8770>]"
      ]
     },
     "execution_count": 11,
     "metadata": {},
     "output_type": "execute_result"
    },
    {
     "data": {
      "image/png": "[encoded data removed]",
      "text/plain": [
       "<Figure size 640x480 with 1 Axes>"
      ]
     },
     "metadata": {},
     "output_type": "display_data"
    }
   ],
   "source": [
    "x_t, y_t, x_v, y_v = split_data(x_train_processed, y_train_processed, 0.8)\n",
    "x_t, y_t = data_augmentation(x_t, y_t)\n",
    "# x_t, _, _, _= pca(x_t, 100)\n",
    "nn = initialize_network(input_size=np.shape(x_t)[1], hidden_size1=512, hidden_size2=128, hidden_size3=32, output_size=1)\n",
    "nn_trained, loss = train(nn, x_t, y_t, x_v, y_v, learning_rate=0.05, epochs=1000, batch_size=4096)\n",
    "# y_pred = predict_1(nn_trained,x_v)\n",
    "# predict_acc_pure(y_pred, y_v)\n",
    "# predict_f1_pure(y_pred, y_v)\n",
    "plt.figure()\n",
    "plt.plot(loss)"
   ]
  },
  {
   "cell_type": "code",
   "execution_count": 12,
   "metadata": {},
   "outputs": [
    {
     "data": {
      "text/plain": [
       "[<matplotlib.lines.Line2D at 0x7f9f99b0e720>]"
      ]
     },
     "execution_count": 12,
     "metadata": {},
     "output_type": "execute_result"
    },
    {
     "data": {
      "image/png": "[encoded data removed]",
      "text/plain": [
       "<Figure size 640x480 with 1 Axes>"
      ]
     },
     "metadata": {},
     "output_type": "display_data"
    }
   ],
   "source": [
    "np.savez(\"./with_one_hot_deeper\", network=nn_trained)\n",
    "nn_trained\n",
    "plt.figure()\n",
    "plt.plot(loss)"
   ]
  },
  {
   "cell_type": "code",
   "execution_count": 18,
   "metadata": {},
   "outputs": [],
   "source": [
    "with np.load('with_one_hot_deeper.npz', allow_pickle=True) as data:\n",
    "    test_network = data.f.network\n",
    "best_thre = test_network[-1]['best_threshold']\n",
    "test_pred = (forward_propagation(test_network, x_test_processed)[-1].squeeze() > best_thre).astype(int)\n",
    "test_pred[test_pred==0] = -1\n",
    "create_csv_submission(test_ids, test_pred, 'submission_NN_deeper.csv')"
   ]
  },
  {
   "cell_type": "code",
   "execution_count": 23,
   "metadata": {},
   "outputs": [
    {
     "name": "stdout",
     "output_type": "stream",
     "text": [
      "99355\n",
      "(109379,)\n"
     ]
    }
   ],
   "source": [
    "import pandas as pd\n",
    "last_pred = pd.read_csv('./submission_NN.csv')\n",
    "last_pred = last_pred.to_numpy()\n",
    "print(sum(test_pred==last_pred[:, 1]))\n",
    "print(test_pred.shape)"
   ]
  },
  {
   "cell_type": "code",
   "execution_count": 29,
   "metadata": {},
   "outputs": [
    {
     "name": "stdout",
     "output_type": "stream",
     "text": [
      "The Accuracy is: 0.0000\n",
      "The F1 score is: 0.1550\n",
      "The precision is: 0.0840\n",
      "The recall is: 1.0000\n"
     ]
    },
    {
     "data": {
      "text/plain": [
       "0.15496017378711077"
      ]
     },
     "execution_count": 29,
     "metadata": {},
     "output_type": "execute_result"
    }
   ],
   "source": [
    "a2 = forward_propagation(nn_trained, x_v)[-1]\n",
    "    \n",
    "    \n",
    "y_pred = (np.squeeze(a2) > 0).astype(int)\n",
    "predict_acc_pure(y_pred, y_v)\n",
    "predict_f1_pure(y_pred, y_v)\n"
   ]
  },
  {
   "cell_type": "code",
   "execution_count": 30,
   "metadata": {},
   "outputs": [],
   "source": [
    "y_pred = predict(nn_trained,x_v)"
   ]
  },
  {
   "cell_type": "code",
   "execution_count": 31,
   "metadata": {},
   "outputs": [
    {
     "data": {
      "text/plain": [
       "0.08398744113029827"
      ]
     },
     "execution_count": 31,
     "metadata": {},
     "output_type": "execute_result"
    }
   ],
   "source": [
    "y_v.mean()"
   ]
  },
  {
   "cell_type": "markdown",
   "metadata": {},
   "source": [
    "### Test NN ### "
   ]
  },
  {
   "cell_type": "code",
   "execution_count": 3,
   "metadata": {},
   "outputs": [
    {
     "data": {
      "image/png": "[encoded data removed]",
      "text/plain": [
       "<Figure size 640x480 with 1 Axes>"
      ]
     },
     "metadata": {},
     "output_type": "display_data"
    }
   ],
   "source": [
    "def generate_data(num_samples=500, radius=0.5):\n",
    "    # Generate random 2D points\n",
    "    x = np.random.rand(num_samples, 2) * 2 - 1 # Rescale to [-1, 1]\n",
    "    \n",
    "    # Create labels based on distance to the origin\n",
    "    labels = (np.sum(x**2, axis=1) < radius**2).astype(int)\n",
    "    \n",
    "    return x, labels\n",
    "\n",
    "x, y = generate_data()\n",
    "\n",
    "# Visualization\n",
    "plt.scatter(x[y == 0][:, 0], x[y == 0][:, 1], color='blue', label='Class 0')\n",
    "plt.scatter(x[y == 1][:, 0], x[y == 1][:, 1], color='red', label='Class 1')\n",
    "plt.legend()\n",
    "plt.xlabel('x1')\n",
    "plt.ylabel('x2')\n",
    "plt.title('Toy Dataset')\n",
    "plt.show()"
   ]
  },
  {
   "cell_type": "code",
   "execution_count": 17,
   "metadata": {},
   "outputs": [
    {
     "name": "stdout",
     "output_type": "stream",
     "text": [
      "Epoch: 0 Loss: 0.5960713993649545\n",
      "Epoch: 2 Loss: 0.5886836499733871\n",
      "Epoch: 4 Loss: 0.5827500994283207\n",
      "Epoch: 6 Loss: 0.577971540732857\n",
      "Epoch: 8 Loss: 0.5741581619056751\n",
      "Epoch: 10 Loss: 0.5710699389131818\n",
      "Epoch: 12 Loss: 0.5685393714731879\n",
      "Epoch: 14 Loss: 0.5664400557181418\n",
      "Epoch: 16 Loss: 0.5647219149951427\n",
      "Epoch: 18 Loss: 0.5632921361499584\n",
      "Epoch: 20 Loss: 0.5620910896895062\n",
      "Epoch: 22 Loss: 0.5610696816521645\n",
      "Epoch: 24 Loss: 0.5601843390579736\n",
      "Epoch: 26 Loss: 0.5594111417629322\n",
      "Epoch: 28 Loss: 0.5587217542546631\n",
      "Epoch: 30 Loss: 0.5581088299627553\n",
      "Epoch: 32 Loss: 0.557548814646578\n",
      "Epoch: 34 Loss: 0.5570304320823258\n",
      "Epoch: 36 Loss: 0.5565454087525401\n",
      "Epoch: 38 Loss: 0.5560847896686593\n",
      "Epoch: 40 Loss: 0.555650497906715\n",
      "Epoch: 42 Loss: 0.5552330608132746\n",
      "Epoch: 44 Loss: 0.5548265451321599\n",
      "Epoch: 46 Loss: 0.5544423285384696\n",
      "Epoch: 48 Loss: 0.5540844173594669\n",
      "Epoch: 50 Loss: 0.5537431878812051\n",
      "Epoch: 52 Loss: 0.5534177686018374\n",
      "Epoch: 54 Loss: 0.5531009190705722\n",
      "Epoch: 56 Loss: 0.5527956894993273\n",
      "Epoch: 58 Loss: 0.5525000491159849\n",
      "Epoch: 60 Loss: 0.5522132569980482\n",
      "Epoch: 62 Loss: 0.5519410285502504\n",
      "Epoch: 64 Loss: 0.5516780730122056\n",
      "Epoch: 66 Loss: 0.5514305345580787\n",
      "Epoch: 68 Loss: 0.5511839474899389\n",
      "Epoch: 70 Loss: 0.5509174564089155\n",
      "Epoch: 72 Loss: 0.550664131260417\n",
      "Epoch: 74 Loss: 0.5504316226771017\n",
      "Epoch: 76 Loss: 0.5502136602937718\n",
      "Epoch: 78 Loss: 0.5500088248901059\n",
      "Epoch: 80 Loss: 0.5498259295502901\n",
      "Epoch: 82 Loss: 0.549657753138573\n",
      "Epoch: 84 Loss: 0.5495235195702846\n",
      "Epoch: 86 Loss: 0.5494102673227135\n",
      "Epoch: 88 Loss: 0.5493006909043386\n",
      "Epoch: 90 Loss: 0.5491968073307169\n",
      "Epoch: 92 Loss: 0.5491453593726621\n",
      "Epoch: 94 Loss: 0.5491341521907722\n",
      "Epoch: 96 Loss: 0.5491243132787547\n",
      "Epoch: 98 Loss: 0.549117033696081\n",
      "The Accuracy is: 0.6460\n",
      "The F1 score is: 0.5070\n",
      "The precision is: 0.3447\n",
      "The recall is: 0.9579\n"
     ]
    },
    {
     "data": {
      "text/plain": [
       "0.5069637883008357"
      ]
     },
     "execution_count": 17,
     "metadata": {},
     "output_type": "execute_result"
    }
   ],
   "source": [
    "nn = initialize_network(input_size=np.shape(x)[1], hidden_size1=5, hidden_size2=5, hidden_size3=5, output_size=1)\n",
    "nn_trained = train(nn, x, y, learning_rate=0.05, epochs=100, batch_size=500)\n",
    "y_pred = predict_1(nn_trained,x)\n",
    "predict_acc_pure(y_pred, y)\n",
    "predict_f1_pure(y_pred, y)"
   ]
  },
  {
   "cell_type": "code",
   "execution_count": 9,
   "metadata": {},
   "outputs": [
    {
     "name": "stdout",
     "output_type": "stream",
     "text": [
      "Epoch: 0 Loss: 0.414994342872437\n",
      "Epoch: 2 Loss: 0.5035820231674939\n",
      "Epoch: 4 Loss: 0.5782620626806647\n",
      "Epoch: 6 Loss: 0.5287878817649523\n",
      "Epoch: 8 Loss: 0.47400353506299536\n",
      "Epoch: 10 Loss: 0.49804107346850995\n",
      "Epoch: 12 Loss: 0.5500767115705771\n",
      "Epoch: 14 Loss: 0.636178292686436\n",
      "Epoch: 16 Loss: 0.5500745275868169\n",
      "Epoch: 18 Loss: 0.5866111709717188\n",
      "Epoch: 20 Loss: 0.5936769386213199\n",
      "Epoch: 22 Loss: 0.6496012293464288\n",
      "Epoch: 24 Loss: 0.6182325285637429\n",
      "Epoch: 26 Loss: 0.48896704191964907\n",
      "Epoch: 28 Loss: 0.6582334949732882\n",
      "Epoch: 30 Loss: 0.6022424336351448\n",
      "Epoch: 32 Loss: 0.6606095435952276\n",
      "Epoch: 34 Loss: 0.7345822015319613\n",
      "Epoch: 36 Loss: 0.56961378619529\n",
      "Epoch: 38 Loss: 0.5803986361852964\n",
      "Epoch: 40 Loss: 0.5426182716456274\n",
      "Epoch: 42 Loss: 0.583575646538757\n",
      "Epoch: 44 Loss: 0.5367246150120908\n",
      "Epoch: 46 Loss: 0.5547985365398754\n",
      "Epoch: 48 Loss: 0.8424036499814465\n",
      "Epoch: 50 Loss: 0.5540113910599314\n",
      "Epoch: 52 Loss: 0.6610783923547345\n",
      "Epoch: 54 Loss: 0.8117391898274509\n",
      "Epoch: 56 Loss: 0.5467766628212011\n",
      "Epoch: 58 Loss: 0.5773740628897504\n",
      "Epoch: 60 Loss: 0.5852571920365749\n",
      "Epoch: 62 Loss: 0.6649139644299296\n",
      "Epoch: 64 Loss: 0.5976116802728926\n",
      "Epoch: 66 Loss: 0.608144670636949\n",
      "Epoch: 68 Loss: 0.6138276586853024\n",
      "Epoch: 70 Loss: 0.5306791821158929\n",
      "Epoch: 72 Loss: 0.7488028941275063\n",
      "Epoch: 74 Loss: 0.6468601924447145\n",
      "Epoch: 76 Loss: 0.6580556303964984\n",
      "Epoch: 78 Loss: 0.6928195144086551\n"
     ]
    },
    {
     "data": {
      "text/plain": [
       "[{'W': array([[ 1.47262966, -0.03394927,  0.16347923, -0.66650573, -2.15848399,\n",
       "          -0.69214004,  0.63075864, -0.65083722,  0.99935221,  0.72590252],\n",
       "         [-1.11804858,  0.98547652, -0.28192686, -0.09143334,  0.05029914,\n",
       "          -0.38101888, -2.14067348,  1.34832063,  0.0763215 , -0.24032029]]),\n",
       "  'b': array([[-0.12539992,  0.05152782, -0.05364484, -0.02030469, -0.08229462,\n",
       "          -0.05622815, -0.15760265,  0.02703914, -0.08570702, -0.10563057]])},\n",
       " {'W': array([[-0.4302135 ,  0.05302093, -0.48440217,  0.12345707,  0.06632657,\n",
       "           0.64888332, -0.07491143,  0.21466507, -0.56201329, -1.31712724],\n",
       "         [-0.24258187,  0.49316133,  0.27854052,  0.23495042, -0.4270928 ,\n",
       "           0.71343097, -0.0830864 , -0.70470255, -1.26392152, -0.75422512],\n",
       "         [ 0.24780896, -0.30003506, -0.13904747,  0.25294723,  0.11017984,\n",
       "           0.3311965 , -0.36953454,  0.42812937,  1.02801789, -0.01297822],\n",
       "         [-0.26920883,  0.32440618,  0.05934789,  0.4293773 ,  0.33375509,\n",
       "           0.4979133 , -0.21530172,  0.65488464,  0.00844092, -0.28734544],\n",
       "         [ 0.73847133,  0.38534584, -0.41615188,  0.19652335,  0.09765651,\n",
       "          -0.076867  ,  0.08785873,  0.89732908, -0.41529722, -0.37971208],\n",
       "         [ 0.15606798, -0.07614671, -0.20410812,  0.61782366,  0.80417348,\n",
       "          -0.09664907, -0.92639732,  0.82880473, -0.18346388,  0.33479398],\n",
       "         [ 0.0367224 ,  0.62963511,  0.0213513 ,  0.19394317, -0.99720752,\n",
       "           0.48673881,  0.53949571, -0.31116017, -0.13321544,  0.20719783],\n",
       "         [ 0.52067154, -0.31871237, -0.19761521,  0.34290476,  0.61299943,\n",
       "           0.24901987,  0.39847433, -0.63345195,  0.28763173, -0.22455859],\n",
       "         [-0.46827867,  0.4673977 , -0.36752664, -0.60491592,  0.2294348 ,\n",
       "           0.55926504, -0.38848871, -0.44747572, -0.07408353, -0.30539774],\n",
       "         [ 1.06845104,  0.50179982, -0.6097982 ,  1.27396094,  0.37986428,\n",
       "           0.7174149 , -0.08842902,  0.25190823,  0.23325367,  0.06581946]]),\n",
       "  'b': array([[-4.36001799e-02, -5.65640185e-02,  6.51691091e-05,\n",
       "          -7.18681065e-03,  4.54028664e-02, -1.19754001e-01,\n",
       "          -4.31024993e-03, -3.48776362e-02,  1.68791455e-04,\n",
       "           3.22026551e-04]])},\n",
       " {'W': array([[ 0.442665  ,  1.01822988,  0.27437673, -0.34773035],\n",
       "         [-0.43133945,  0.52755578, -0.5188969 ,  0.15700608],\n",
       "         [-0.26933893, -0.34481358,  0.67703644, -0.27834411],\n",
       "         [-0.3737774 ,  0.20203683, -0.75280891, -0.9277192 ],\n",
       "         [-0.44320895,  0.47059445,  0.02713929, -0.10054301],\n",
       "         [-0.28940323,  0.91568471,  0.86186847, -0.29513409],\n",
       "         [ 0.33869485, -0.08457251,  0.05503923, -0.04355505],\n",
       "         [ 1.11511234, -0.30428574, -0.2023896 ,  0.38780865],\n",
       "         [-0.61806308,  0.14428306, -0.15762238, -0.50991273],\n",
       "         [-0.72132483,  0.16597895, -0.55243823, -0.10655121]]),\n",
       "  'b': array([[-0.0522296 , -0.14954341, -0.03440304, -0.00112237]])},\n",
       " {'W': array([[-0.54728033],\n",
       "         [-1.27065805],\n",
       "         [-0.39922033],\n",
       "         [-1.14753115]]),\n",
       "  'b': array([[0.0981817]])}]"
      ]
     },
     "execution_count": 9,
     "metadata": {},
     "output_type": "execute_result"
    }
   ],
   "source": [
    "train(nn, x, y, learning_rate=0.01, epochs=80, batch_size=200)"
   ]
  },
  {
   "cell_type": "code",
   "execution_count": 1,
   "metadata": {},
   "outputs": [
    {
     "data": {
      "text/plain": [
       "'tomorrow'"
      ]
     },
     "execution_count": 1,
     "metadata": {},
     "output_type": "execute_result"
    }
   ],
   "source": [
    "def do_something(x):\n",
    "    x[\"today\"] = \"tomorrow\"\n",
    "\n",
    "dic = {\"today\": \"today\"}\n",
    "do_something(dic)\n",
    "dic[\"today\"]"
   ]
  },
  {
   "cell_type": "code",
   "execution_count": null,
   "metadata": {},
   "outputs": [],
   "source": []
  }
 ],
 "metadata": {
  "kernelspec": {
   "display_name": "ML",
   "language": "python",
   "name": "python3"
  },
  "language_info": {
   "codemirror_mode": {
    "name": "ipython",
    "version": 3
   },
   "file_extension": ".py",
   "mimetype": "text/x-python",
   "name": "python",
   "nbconvert_exporter": "python",
   "pygments_lexer": "ipython3",
   "version": "3.12.0"
  }
 },
 "nbformat": 4,
 "nbformat_minor": 2
}
