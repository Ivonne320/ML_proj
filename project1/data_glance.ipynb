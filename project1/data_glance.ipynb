{
 "cells": [
  {
   "cell_type": "code",
   "execution_count": 1,
   "metadata": {},
   "outputs": [],
   "source": [
    "# import pandas as pd\n",
    "%matplotlib inline\n",
    "import numpy as np\n",
    "import matplotlib.pyplot as plt\n",
    "from helpers import *\n",
    "from implementations import *\n",
    "# import SVM"
   ]
  },
  {
   "cell_type": "markdown",
   "metadata": {},
   "source": [
    "### Prepare the data ###"
   ]
  },
  {
   "cell_type": "markdown",
   "metadata": {},
   "source": [
    "Procedure: 1. normalize coding for missing values: check each feature, assign NaN to values > 95% percentile. --> 2. check each row, drop the rows where over 50% of the features are NaN. Also remove the corresponding y  --> 3. Check each columns, drop the feature where over 50% of the rows are NaN or std == 0. Record the index for test set. --> 4. Handling NaN values: check for categorical feature (record the index), assign NaN to mean for non-categorical and majority label for categorial. --> 5. One-hot encoding for categorical data. --> 6. Standardize (skip categorical 0-1 columns)  --> 7. Regard a datapoint having more than 30% of the features with Z-score>2.5 as outliers, remove from x and corresponding y. --> 8. Data Augmentation --> 9. PCA "
   ]
  },
  {
   "cell_type": "code",
   "execution_count": 5,
   "metadata": {},
   "outputs": [],
   "source": [
    "x_train, x_test, y_train, train_ids, test_ids = load_csv_data(\"./data/dataset_to_release\", sub_sample=True)"
   ]
  },
  {
   "cell_type": "code",
   "execution_count": 3,
   "metadata": {},
   "outputs": [
    {
     "name": "stdout",
     "output_type": "stream",
     "text": [
      "(6563, 321)\n",
      "(6563,)\n"
     ]
    }
   ],
   "source": [
    "print(x_train.shape)\n",
    "print(y_train.shape)"
   ]
  },
  {
   "cell_type": "code",
   "execution_count": 4,
   "metadata": {},
   "outputs": [],
   "source": [
    "# x_sub, y_sub = split_cross_validation(x_train, y_train, 10)\n",
    "# np.shape(x_sub[0])"
   ]
  },
  {
   "cell_type": "code",
   "execution_count": 6,
   "metadata": {},
   "outputs": [
    {
     "name": "stdout",
     "output_type": "stream",
     "text": [
      "(6368, 200)\n"
     ]
    },
    {
     "data": {
      "text/plain": [
       "(6368, 586)"
      ]
     },
     "execution_count": 6,
     "metadata": {},
     "output_type": "execute_result"
    }
   ],
   "source": [
    "# thresholds for nans\n",
    "row_nan = 0.6\n",
    "feature_nan = 0.8\n",
    "# threshold for categorical features\n",
    "threshold_cat = 10\n",
    "# threshold for outliers\n",
    "z_threshold=2\n",
    "feature_threshold=0.2\n",
    "\n",
    "x_train_processed = x_train.copy()\n",
    "y_train_processed = y_train.copy()\n",
    "\n",
    "# transform y to 0-1 encoding\n",
    "y_train_processed = process_y(y_train_processed)\n",
    "\n",
    "# Uniform missing value encoding\n",
    "# x_train_processed = normalize_nan(x_train_processed)\n",
    "# Remove rows with too many nans\n",
    "x_train_processed, y_train_processed = drop_rows(x_train_processed, y_train_processed, row_nan) # 0.55 remains 6101 rows\n",
    "# x_train_processed.shape\n",
    "# Remove features with too many nans\n",
    "x_train_processed, nan_indices = drop_features(x_train_processed, feature_nan) # 0.5 remains 174 features\n",
    "print(x_train_processed.shape)\n",
    "\n",
    "# get categorical feature indices\n",
    "cat_indices = check_categorical(x_train_processed, threshold_cat)\n",
    "# handling remaining nans\n",
    "x_train_processed = fillna(x_train_processed, cat_indices)\n",
    "# One hot encoding for categorical features\n",
    "x_train_processed = one_hot_encoding(x_train_processed, cat_indices)\n",
    "x_train_processed = standardize(x_train_processed)\n",
    "x_train_processed, y_train_processed = z_outlier_removal(x_train_processed, y_train_processed, z_threshold, feature_threshold)\n",
    "x_train_processed.shape\n",
    "# x_train_processed = add_bias(x_train_processed)\n"
   ]
  },
  {
   "cell_type": "code",
   "execution_count": 6,
   "metadata": {},
   "outputs": [
    {
     "data": {
      "text/plain": [
       "550"
      ]
     },
     "execution_count": 6,
     "metadata": {},
     "output_type": "execute_result"
    }
   ],
   "source": [
    "np.sum(y_train_processed==1)"
   ]
  },
  {
   "cell_type": "code",
   "execution_count": 7,
   "metadata": {},
   "outputs": [
    {
     "name": "stdout",
     "output_type": "stream",
     "text": [
      "(6368, 586)\n",
      "(6368,)\n",
      "0\n"
     ]
    }
   ],
   "source": [
    "print(x_train_processed.shape)\n",
    "print(y_train_processed.shape)\n",
    "print(np.sum(x_train_processed.std(axis=0) == 0))"
   ]
  },
  {
   "cell_type": "code",
   "execution_count": 8,
   "metadata": {},
   "outputs": [],
   "source": [
    "# x_train_processed_orig = x_train.copy()\n",
    "# x_train_processed_orig = fillna_with_mean(x_train_processed_orig, threshold=threshold_nan)\n",
    "# x_train_processed_orig = standardize(x_train_processed_orig)\n",
    "# x_train_processed_orig = polynomial_expansion_single(x_train_processed_orig, degree=2)\n",
    "# x_train_processed_orig = standardize(x_train_processed_orig)\n",
    "# x_train_processed_orig = add_bias(x_train_processed_orig)\n",
    "# # add a column of ones\n",
    "# y_train_processed_orig = y_train.copy()\n",
    "# y_train_processed_orig = process_y(y_train_processed_orig)\n",
    "# print(np.isnan(x_train_processed_orig).any())"
   ]
  },
  {
   "cell_type": "code",
   "execution_count": 9,
   "metadata": {},
   "outputs": [],
   "source": [
    "# print(x_train_processed_orig.shape)\n",
    "# print(y_train_processed_orig.shape)"
   ]
  },
  {
   "cell_type": "code",
   "execution_count": 10,
   "metadata": {},
   "outputs": [],
   "source": [
    "# ## PCA feature selection \n",
    "# pre_train_data = x_train_processed.copy()\n",
    "\n",
    "# x_pca, eig_vec, eig_val,weight = pca(pre_train_data, 200)\n",
    "# print(weight)"
   ]
  },
  {
   "cell_type": "code",
   "execution_count": 11,
   "metadata": {},
   "outputs": [],
   "source": [
    "# x_pca.shape"
   ]
  },
  {
   "cell_type": "code",
   "execution_count": 12,
   "metadata": {},
   "outputs": [],
   "source": [
    "# cummulation = np.cumsum(weight)\n",
    "## cummulation\n",
    "# plt.plot(cummulation)"
   ]
  },
  {
   "cell_type": "code",
   "execution_count": 13,
   "metadata": {},
   "outputs": [],
   "source": [
    "# x_pca.shape"
   ]
  },
  {
   "cell_type": "markdown",
   "metadata": {},
   "source": [
    "### Experiment ###"
   ]
  },
  {
   "cell_type": "code",
   "execution_count": 14,
   "metadata": {},
   "outputs": [],
   "source": [
    "# ## linear regression using all the features except for those having NaN values over 50% ##\n",
    "# x_t, y_t, x_v, y_v = split_data(add_bias(x_train_processed), y_train_processed, 0.9)\n",
    "# # x_t, y_t = data_augmentation(x_t, y_t)\n",
    "# initial_w = np.random.randn(x_t.shape[1]) * 0.01\n",
    "# w, loss = mean_square_error_gd(y_t, x_t, initial_w, max_iters=500, gamma=0.01)\n",
    "# y_pred = x_v @ w\n",
    "# y_pred_mean = np.mean(y_pred)\n",
    "# y_pred = (y_pred > y_pred_mean).astype(int)\n",
    "# predict_acc_pure(y_pred, y_v)\n",
    "# predict_f1_pure(y_pred, y_v)"
   ]
  },
  {
   "cell_type": "code",
   "execution_count": 15,
   "metadata": {},
   "outputs": [],
   "source": [
    "# x_train_processed.shape"
   ]
  },
  {
   "cell_type": "code",
   "execution_count": 16,
   "metadata": {},
   "outputs": [],
   "source": [
    "# # logistic regression using all the features except for those having NaN values over 50% ##\n",
    "# x_t, y_t, x_v, y_v = split_data(add_bias(x_train_processed), y_train_processed, 0.9)\n",
    "# x_t, y_t = data_augmentation(x_t, y_t)\n",
    "# initial_w = np.random.randn(x_t.shape[1]) * 0.01\n",
    "# w, loss = logistic_regression(y_t, x_t, initial_w, max_iters=500, gamma=0.1)\n",
    "# y_pred = sigmoid(x_v @ w)\n",
    "# y_pred = (y_pred >= 0.7).astype(int)\n",
    "# predict_acc_pure(y_pred, y_v)\n",
    "# predict_f1_pure(y_pred, y_v)"
   ]
  },
  {
   "cell_type": "code",
   "execution_count": 17,
   "metadata": {},
   "outputs": [],
   "source": [
    "# # logistic regression\n",
    "# x_t, y_t, x_v, y_v = split_data(add_bias(x_train_processed), y_train_processed, 0.9)\n",
    "# x_t, y_t = data_augmentation(x_t, y_t)\n",
    "# initial_w = np.random.randn(x_t.shape[1]) * 0.01\n",
    "# w, loss = reg_logistic_regression(y_t, x_t, lambda_=0.1, initial_w=initial_w, max_iters=500, gamma=0.15)\n",
    "# y_pred = (x_v @ w >= 0.75).astype(int)\n",
    "# predict_acc_pure(y_pred, y_v)\n",
    "# predict_f1_pure(y_pred, y_v)"
   ]
  },
  {
   "cell_type": "code",
   "execution_count": 18,
   "metadata": {},
   "outputs": [],
   "source": [
    "# # ridge regression using all the features except for those having NaN values over 50% ##\n",
    "# x_t, y_t, x_v, y_v = split_data(add_bias(x_train_processed), y_train_processed, 0.9)\n",
    "# x_t, y_t = data_augmentation(x_t, y_t)\n",
    "# w, loss = ridge_regression(y_t, x_t, lambda_=0.01)\n",
    "# y_pred = x_v @ w\n",
    "# y_pred_mean = np.mean(y_pred)\n",
    "# y_pred = (y_pred > y_pred_mean).astype(int)\n",
    "# predict_acc_pure(y_pred, y_v)\n",
    "# predict_f1_pure(y_pred, y_v)"
   ]
  },
  {
   "cell_type": "markdown",
   "metadata": {},
   "source": [
    "#### Hinge loss gradient descent"
   ]
  },
  {
   "cell_type": "code",
   "execution_count": 19,
   "metadata": {},
   "outputs": [],
   "source": [
    "# accs = []\n",
    "# f1 = []\n",
    "# for i in range(10):\n",
    "#     x_t, y_t, x_v, y_v = split_data(x_train_processed, y_train_processed, 0.9)\n",
    "#     x_t, y_t = data_augmentation(x_t, y_t)\n",
    "#     initial_w = np.random.randn(x_t.shape[1]) * 0.01\n",
    "#     w, loss = hinge_regression(y_t, x_t, initial_w, lambda_=0.1, max_iters=500, gamma=0.01)\n",
    "#     y_pred = ((x_v @ w) > 0.5).astype(int)\n",
    "#     accs.append(predict_acc_pure(y_pred, y_v))\n",
    "#     f1.append(predict_f1_pure(y_pred, y_v))\n",
    "# print(\"Final accuracy score is: \", np.mean(accs))\n",
    "# print(\"Final f1 score is: \", np.mean(f1))"
   ]
  },
  {
   "cell_type": "code",
   "execution_count": 20,
   "metadata": {},
   "outputs": [],
   "source": [
    "# import sklearn.svm as svm\n",
    "# cls = svm.SVC(C=50, kernel='rbf')\n",
    "# x_t, y_t, x_v, y_v = split_data(x_train_processed_hinge, y_train_processed_hinge, 0.9)\n",
    "# cls.fit(x_t, y_t)\n",
    "# y_pred = cls.predict(x_v)\n",
    "# predict_acc_pure(y_pred, y_v)\n",
    "# predict_f1_pure(y_pred, y_v)"
   ]
  },
  {
   "cell_type": "markdown",
   "metadata": {},
   "source": [
    "#### PCA"
   ]
  },
  {
   "cell_type": "code",
   "execution_count": 21,
   "metadata": {},
   "outputs": [],
   "source": [
    "# ## linear regression using PCA feature selection ##\n",
    "# x_pca_t = add_bias(x_pca)\n",
    "# x_t, y_t, x_v, y_v = split_data(x_pca_t, y_train_processed, 0.9)\n",
    "# # x_t, y_t = data_augmentation(x_t, y_t)\n",
    "# initial_w = np.random.randn(x_pca_t.shape[1]) * 0.01\n",
    "# w, loss = mean_square_error_gd(y_t, x_t, initial_w, max_iters = 500, gamma=0.05)\n",
    "# y_pred = x_v @ w\n",
    "# y_pred_mean = np.mean(y_pred)\n",
    "# y_pred = (y_pred >= y_pred_mean).astype(int)\n",
    "# predict_acc_pure(y_pred, y_v)\n",
    "# predict_f1_pure(y_pred, y_v)"
   ]
  },
  {
   "cell_type": "code",
   "execution_count": 22,
   "metadata": {},
   "outputs": [],
   "source": [
    "# # logistic regression using pca feature selection #\n",
    "# x_pca_t = add_bias(x_pca)\n",
    "# x_t, y_t, x_v, y_v = split_data(x_pca_t, y_train_processed, 0.9)\n",
    "# x_t, y_t = data_augmentation(x_t, y_t)\n",
    "# initial_w = np.random.randn(x_pca_t.shape[1]) * 0.01\n",
    "# w, loss = logistic_regression(y_t, x_t, initial_w, max_iters=500, gamma=0.15)\n",
    "# y_pred = sigmoid(x_v @ w)\n",
    "# y_pred = (y_pred >= 0.7).astype(int)\n",
    "# predict_acc_pure(y_pred, y_v)\n",
    "# predict_f1_pure(y_pred, y_v)"
   ]
  },
  {
   "cell_type": "code",
   "execution_count": 23,
   "metadata": {},
   "outputs": [],
   "source": [
    "# # logistic regression using pca feature selection #\n",
    "# initial_w = np.random.randn(x_pca.shape[1]) * 0.01\n",
    "# w, loss = reg_logistic_regression(y_train_processed, x_pca, lambda_=0.01, initial_w=initial_w, max_iters=100, gamma=0.15)\n",
    "# predict_acc(x_train_processed_orig_pca, y_train_processed_orig, w, logistic=False, threshold=0.85)\n",
    "# predict_f1(x_train_processed_orig_pca, y_train_processed_orig, w, logistic=False, threshold=0.85)"
   ]
  },
  {
   "cell_type": "code",
   "execution_count": 24,
   "metadata": {},
   "outputs": [],
   "source": [
    "# x_t, y_t, x_v, y_v = split_data(x_pca, y_train_processed, 0.9)\n",
    "# x_t, y_t = data_augmentation(x_t, y_t)\n",
    "# initial_w = np.random.randn(x_t.shape[1]) * 0.01\n",
    "# w, loss = hinge_regression(y_t, x_t, initial_w, lambda_=0.3, max_iters=500, gamma=0.01)\n",
    "# y_pred = ((x_v @ w) > 1).astype(int)\n",
    "# predict_acc_pure(y_pred, y_v)\n",
    "# predict_f1_pure(y_pred, y_v)"
   ]
  },
  {
   "cell_type": "markdown",
   "metadata": {},
   "source": [
    "### Apply SVM to classification task"
   ]
  },
  {
   "cell_type": "code",
   "execution_count": 25,
   "metadata": {},
   "outputs": [],
   "source": [
    "# w_svm, b_svm = SVM.gradient_descent(x_train_processed_orig_pca[:, 1:], y_train_processed_orig, epochs=500, lr=0.3)"
   ]
  },
  {
   "cell_type": "code",
   "execution_count": 26,
   "metadata": {},
   "outputs": [],
   "source": [
    "# np.shape(x_train)"
   ]
  },
  {
   "cell_type": "markdown",
   "metadata": {},
   "source": [
    "### Apply Neural Network ###"
   ]
  },
  {
   "cell_type": "code",
   "execution_count": 8,
   "metadata": {},
   "outputs": [
    {
     "ename": "ValueError",
     "evalue": "shapes (240,) and (1,240) not aligned: 240 (dim 0) != 1 (dim 0)",
     "output_type": "error",
     "traceback": [
      "\u001b[0;31m---------------------------------------------------------------------------\u001b[0m",
      "\u001b[0;31mValueError\u001b[0m                                Traceback (most recent call last)",
      "\u001b[1;32m/home/ivonne/ML_proj/project1/data_glance.ipynb Cell 34\u001b[0m line \u001b[0;36m5\n\u001b[1;32m      <a href='vscode-notebook-cell://wsl%2Bubuntu/home/ivonne/ML_proj/project1/data_glance.ipynb#X45sdnNjb2RlLXJlbW90ZQ%3D%3D?line=1'>2</a>\u001b[0m \u001b[39m# x_t, y_t = data_augmentation(x_t, y_t)\u001b[39;00m\n\u001b[1;32m      <a href='vscode-notebook-cell://wsl%2Bubuntu/home/ivonne/ML_proj/project1/data_glance.ipynb#X45sdnNjb2RlLXJlbW90ZQ%3D%3D?line=2'>3</a>\u001b[0m \u001b[39m# x_t, _, _, _= pca(x_t, 100)\u001b[39;00m\n\u001b[1;32m      <a href='vscode-notebook-cell://wsl%2Bubuntu/home/ivonne/ML_proj/project1/data_glance.ipynb#X45sdnNjb2RlLXJlbW90ZQ%3D%3D?line=3'>4</a>\u001b[0m nn \u001b[39m=\u001b[39m initialize_network(input_size\u001b[39m=\u001b[39mnp\u001b[39m.\u001b[39mshape(x_t)[\u001b[39m1\u001b[39m], hidden_size1\u001b[39m=\u001b[39m\u001b[39m40\u001b[39m, hidden_size2\u001b[39m=\u001b[39m\u001b[39m16\u001b[39m, hidden_size3\u001b[39m=\u001b[39m\u001b[39m10\u001b[39m, output_size\u001b[39m=\u001b[39m\u001b[39m1\u001b[39m)\n\u001b[0;32m----> <a href='vscode-notebook-cell://wsl%2Bubuntu/home/ivonne/ML_proj/project1/data_glance.ipynb#X45sdnNjb2RlLXJlbW90ZQ%3D%3D?line=4'>5</a>\u001b[0m nn_trained \u001b[39m=\u001b[39m train(nn, x_t, y_t, learning_rate\u001b[39m=\u001b[39;49m\u001b[39m0.005\u001b[39;49m, epochs\u001b[39m=\u001b[39;49m\u001b[39m15\u001b[39;49m, batch_size\u001b[39m=\u001b[39;49m\u001b[39m240\u001b[39;49m)\n\u001b[1;32m      <a href='vscode-notebook-cell://wsl%2Bubuntu/home/ivonne/ML_proj/project1/data_glance.ipynb#X45sdnNjb2RlLXJlbW90ZQ%3D%3D?line=5'>6</a>\u001b[0m y_pred \u001b[39m=\u001b[39m predict(nn_trained,x_v)\n\u001b[1;32m      <a href='vscode-notebook-cell://wsl%2Bubuntu/home/ivonne/ML_proj/project1/data_glance.ipynb#X45sdnNjb2RlLXJlbW90ZQ%3D%3D?line=6'>7</a>\u001b[0m predict_acc_pure(y_pred, y_v)\n",
      "File \u001b[0;32m~/ML_proj/project1/implementations.py:1029\u001b[0m, in \u001b[0;36mtrain\u001b[0;34m(network, X, y, learning_rate, epochs, batch_size)\u001b[0m\n\u001b[1;32m   1027\u001b[0m a4 \u001b[39m=\u001b[39m activations[\u001b[39m-\u001b[39m\u001b[39m1\u001b[39m]\n\u001b[1;32m   1028\u001b[0m \u001b[39m# loss = -np.mean(y_batch * np.log(a4) + (1 - y_batch) * np.log(1 - a4))\u001b[39;00m\n\u001b[0;32m-> 1029\u001b[0m logprobs \u001b[39m=\u001b[39m np\u001b[39m.\u001b[39;49mdot(y_batch\u001b[39m.\u001b[39;49mT,np\u001b[39m.\u001b[39;49mlog(a4)\u001b[39m.\u001b[39;49mT)\u001b[39m+\u001b[39mnp\u001b[39m.\u001b[39mdot((\u001b[39m1\u001b[39m\u001b[39m-\u001b[39my_batch\u001b[39m.\u001b[39mT),np\u001b[39m.\u001b[39mlog(\u001b[39m1\u001b[39m\u001b[39m-\u001b[39ma4)\u001b[39m.\u001b[39mT) \n\u001b[1;32m   1030\u001b[0m loss \u001b[39m=\u001b[39m \u001b[39m-\u001b[39mlogprobs \u001b[39m/\u001b[39m m\n\u001b[1;32m   1032\u001b[0m gradients \u001b[39m=\u001b[39m backpropagation(network, X_batch, y_batch, activations)\n",
      "\u001b[0;31mValueError\u001b[0m: shapes (240,) and (1,240) not aligned: 240 (dim 0) != 1 (dim 0)"
     ]
    }
   ],
   "source": [
    "x_t, y_t, x_v, y_v = split_data(x_train_processed, y_train_processed, 0.8)\n",
    "# x_t, y_t = data_augmentation(x_t, y_t)\n",
    "# x_t, _, _, _= pca(x_t, 100)\n",
    "nn = initialize_network(input_size=np.shape(x_t)[1], hidden_size1=40, hidden_size2=16, hidden_size3=10, output_size=1)\n",
    "nn_trained = train(nn, x_t, y_t, learning_rate=0.005, epochs=15, batch_size=240)\n",
    "y_pred = predict(nn_trained,x_v)\n",
    "predict_acc_pure(y_pred, y_v)\n",
    "predict_f1_pure(y_pred, y_v)"
   ]
  },
  {
   "cell_type": "code",
   "execution_count": 28,
   "metadata": {},
   "outputs": [
    {
     "data": {
      "text/plain": [
       "0.08500196309383588"
      ]
     },
     "execution_count": 28,
     "metadata": {},
     "output_type": "execute_result"
    }
   ],
   "source": [
    "y_t.mean()"
   ]
  },
  {
   "cell_type": "code",
   "execution_count": 29,
   "metadata": {},
   "outputs": [
    {
     "name": "stdout",
     "output_type": "stream",
     "text": [
      "The Accuracy is: 0.0000\n",
      "The F1 score is: 0.1682\n",
      "The precision is: 0.0918\n",
      "The recall is: 1.0000\n"
     ]
    },
    {
     "data": {
      "text/plain": [
       "0.16822429906542058"
      ]
     },
     "execution_count": 29,
     "metadata": {},
     "output_type": "execute_result"
    }
   ],
   "source": [
    "a2 = forward_propagation(nn_trained, x_v)[-1]\n",
    "    \n",
    "    \n",
    "y_pred = (np.squeeze(a2) > 0).astype(int)\n",
    "predict_acc_pure(y_pred, y_v)\n",
    "predict_f1_pure(y_pred, y_v)\n"
   ]
  },
  {
   "cell_type": "code",
   "execution_count": 30,
   "metadata": {},
   "outputs": [],
   "source": [
    "y_pred = predict(nn_trained,x_v)"
   ]
  },
  {
   "cell_type": "code",
   "execution_count": 31,
   "metadata": {},
   "outputs": [
    {
     "data": {
      "text/plain": [
       "0.09183673469387756"
      ]
     },
     "execution_count": 31,
     "metadata": {},
     "output_type": "execute_result"
    }
   ],
   "source": [
    "y_v.mean()"
   ]
  },
  {
   "cell_type": "markdown",
   "metadata": {},
   "source": [
    "### Test NN ### "
   ]
  },
  {
   "cell_type": "code",
   "execution_count": 32,
   "metadata": {},
   "outputs": [
    {
     "data": {
      "image/png": "[encoded data removed]",
      "text/plain": [
       "<Figure size 640x480 with 1 Axes>"
      ]
     },
     "metadata": {},
     "output_type": "display_data"
    }
   ],
   "source": [
    "def generate_data(num_samples=500, radius=0.5):\n",
    "    # Generate random 2D points\n",
    "    x = np.random.rand(num_samples, 2) * 2 - 1 # Rescale to [-1, 1]\n",
    "    \n",
    "    # Create labels based on distance to the origin\n",
    "    labels = (np.sum(x**2, axis=1) < radius**2).astype(int)\n",
    "    \n",
    "    return x, labels\n",
    "\n",
    "x, y = generate_data()\n",
    "\n",
    "# Visualization\n",
    "plt.scatter(x[y == 0][:, 0], x[y == 0][:, 1], color='blue', label='Class 0')\n",
    "plt.scatter(x[y == 1][:, 0], x[y == 1][:, 1], color='red', label='Class 1')\n",
    "plt.legend()\n",
    "plt.xlabel('x1')\n",
    "plt.ylabel('x2')\n",
    "plt.title('Toy Dataset')\n",
    "plt.show()"
   ]
  },
  {
   "cell_type": "code",
   "execution_count": 33,
   "metadata": {},
   "outputs": [
    {
     "name": "stdout",
     "output_type": "stream",
     "text": [
      "Epoch: 0 Loss: 0.554140901035659\n",
      "Epoch: 2 Loss: 0.6355115822676142\n",
      "Epoch: 4 Loss: 0.5703803972660615\n",
      "Epoch: 6 Loss: 0.538148358572958\n",
      "Epoch: 8 Loss: 0.6037274295874099\n",
      "Epoch: 10 Loss: 0.5935929089893998\n",
      "Epoch: 12 Loss: 0.5377727988257001\n",
      "Epoch: 14 Loss: 0.5528197762511157\n",
      "Epoch: 16 Loss: 0.5266685407389036\n",
      "Epoch: 18 Loss: 0.6114912648196452\n",
      "Epoch: 20 Loss: 0.6243905797773407\n",
      "Epoch: 22 Loss: 0.5553445897213269\n",
      "Epoch: 24 Loss: 0.5752018005867288\n",
      "Epoch: 26 Loss: 0.5991425648936147\n",
      "Epoch: 28 Loss: 0.5570613615321734\n",
      "Epoch: 30 Loss: 0.5951387318402769\n",
      "Epoch: 32 Loss: 0.5971782551430359\n",
      "Epoch: 34 Loss: 0.5107926032784098\n",
      "Epoch: 36 Loss: 0.5418308481425692\n",
      "Epoch: 38 Loss: 0.5648235199545646\n",
      "The Accuracy is: 0.0020\n",
      "The F1 score is: 0.0959\n",
      "The precision is: 0.1346\n",
      "The recall is: 0.0745\n"
     ]
    },
    {
     "data": {
      "text/plain": [
       "0.0958904109589041"
      ]
     },
     "execution_count": 33,
     "metadata": {},
     "output_type": "execute_result"
    }
   ],
   "source": [
    "nn = initialize_network(input_size=np.shape(x)[1], hidden_size1=10, hidden_size2=10, hidden_size3=4, output_size=1)\n",
    "nn_trained = train(nn, x, y, learning_rate=0.0001, epochs=40, batch_size=200)\n",
    "y_pred = predict(nn_trained,x)\n",
    "predict_acc_pure(y_pred, y)\n",
    "predict_f1_pure(y_pred, y)"
   ]
  }
 ],
 "metadata": {
  "kernelspec": {
   "display_name": "ML",
   "language": "python",
   "name": "python3"
  },
  "language_info": {
   "codemirror_mode": {
    "name": "ipython",
    "version": 3
   },
   "file_extension": ".py",
   "mimetype": "text/x-python",
   "name": "python",
   "nbconvert_exporter": "python",
   "pygments_lexer": "ipython3",
   "version": "3.10.12"
  }
 },
 "nbformat": 4,
 "nbformat_minor": 2
}
