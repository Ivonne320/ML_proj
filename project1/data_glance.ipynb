{
 "cells": [
  {
   "cell_type": "code",
   "execution_count": 1,
   "metadata": {},
   "outputs": [],
   "source": [
    "# import pandas as pd\n",
    "%matplotlib inline\n",
    "import numpy as np\n",
    "import matplotlib.pyplot as plt\n",
    "from helpers import *\n",
    "from implementations import *\n",
    "from networks import *\n",
    "import seaborn as sns\n",
    "# import SVM"
   ]
  },
  {
   "cell_type": "markdown",
   "metadata": {},
   "source": [
    "### Prepare the data ###"
   ]
  },
  {
   "cell_type": "markdown",
   "metadata": {},
   "source": [
    "Procedure: 1. normalize coding for missing values: check each feature, assign NaN to values > 95% percentile. --> 2. check each row, drop the rows where over 50% of the features are NaN. Also remove the corresponding y  --> 3. Check each columns, drop the feature where over 50% of the rows are NaN or std == 0. Record the index for test set. --> 4. Handling NaN values: check for categorical feature (record the index), assign NaN to mean for non-categorical and majority label for categorial. --> 5. One-hot encoding for categorical data. --> 6. Standardize (skip categorical 0-1 columns)  --> 7. Regard a datapoint having more than 30% of the features with Z-score>2.5 as outliers, remove from x and corresponding y. --> 8. Data Augmentation --> 9. PCA "
   ]
  },
  {
   "cell_type": "code",
   "execution_count": 2,
   "metadata": {},
   "outputs": [],
   "source": [
    "x_train, x_test, y_train, train_ids, test_ids = load_csv_data(\"./data/dataset_to_release\", sub_sample=False)"
   ]
  },
  {
   "cell_type": "code",
   "execution_count": null,
   "metadata": {},
   "outputs": [
    {
     "name": "stdout",
     "output_type": "stream",
     "text": [
      "(328135, 321)\n",
      "(328135,)\n"
     ]
    }
   ],
   "source": [
    "print(x_train.shape)\n",
    "print(y_train.shape)"
   ]
  },
  {
   "cell_type": "code",
   "execution_count": null,
   "metadata": {},
   "outputs": [
    {
     "data": {
      "text/plain": [
       "(-2.3, 2.3)"
      ]
     },
     "execution_count": 13,
     "metadata": {},
     "output_type": "execute_result"
    },
    {
     "data": {
      "text/plain": [
       "<Figure size 640x480 with 0 Axes>"
      ]
     },
     "metadata": {},
     "output_type": "display_data"
    },
    {
     "data": {
      "image/png": "[encoded data removed]",
      "text/plain": [
       "<Figure size 500x200 with 1 Axes>"
      ]
     },
     "metadata": {},
     "output_type": "display_data"
    }
   ],
   "source": [
    "# plot the distribution of the labels -1, 1\n",
    "plt.figure()\n",
    "plt.figure(figsize=(5, 2))\n",
    "# plt the fraction\n",
    "# plt.bar([-1, 1], [np.sum(y_train == -1), np.sum(y_train == 1)],width=0.5,color=['skyblue', 'orange'])\n",
    "plt.bar([-1, 1], [np.sum(y_train == -1)/len(y_train), np.sum(y_train == 1)/len(y_train)],width=0.5,color=['skyblue', 'orange'])\n",
    "# Set the figure size\n",
    "plt.xticks([-1, 1])\n",
    "plt.ylabel(\"Fraction\")\n",
    "plt.xlabel(\"Label\")\n",
    "plt.xlim(-2.3, 2.3)\n",
    "\n",
    "\n",
    "# plt.hist(y_train, bins=2)"
   ]
  },
  {
   "cell_type": "code",
   "execution_count": 3,
   "metadata": {},
   "outputs": [
    {
     "name": "stdout",
     "output_type": "stream",
     "text": [
      "(317917, 201)\n",
      "(317917, 568)\n",
      "(317917,)\n"
     ]
    }
   ],
   "source": [
    "# thresholds for nans\n",
    "row_nan = 0.6\n",
    "feature_nan = 0.8\n",
    "# threshold for categorical features\n",
    "threshold_cat = 10\n",
    "# threshold for outliers\n",
    "z_threshold=2\n",
    "feature_threshold=0.2\n",
    "\n",
    "x_train_processed = x_train.copy()\n",
    "y_train_processed = y_train.copy()\n",
    "\n",
    "# transform y to 0-1 encoding\n",
    "y_train_processed = process_y(y_train_processed)\n",
    "\n",
    "# Uniform missing value encoding\n",
    "# x_train_processed = normalize_nan(x_train_processed)\n",
    "# Remove rows with too many nans\n",
    "x_train_processed, y_train_processed = drop_rows(x_train_processed, y_train_processed, row_nan) # 0.55 remains 6101 rows\n",
    "# x_train_processed.shape\n",
    "# Remove features with too many nans\n",
    "x_train_processed, nan_indices = drop_features(x_train_processed, feature_nan) # 0.5 remains 174 features\n",
    "x_test_processed = x_test[:, nan_indices].copy()\n",
    "print(x_train_processed.shape)\n",
    "\n",
    "# get categorical feature indices\n",
    "cat_indices = check_categorical(x_train_processed, threshold_cat)\n",
    "# handling remaining nans\n",
    "x_train_processed = fillna(x_train_processed, cat_indices)\n",
    "x_test_processed = fillna(x_test_processed, cat_indices)\n",
    "\n",
    "# One hot encoding for categorical features\n",
    "\n",
    "x_train_processed, x_test_processed = one_hot_encoding(x_train_processed, x_test_processed, cat_indices)\n",
    "\n",
    "#x_train_processed, train_mean, train_std = standardize(x_train_processed)\n",
    "x_train_processed, train_max, train_min = normalization(x_train_processed)\n",
    "# x_test_processed = (x_test_processed - train_mean) / train_std\n",
    "x_test_processed, _, _  = normalization(x_test_processed, train_max, train_min)\n",
    "# x_train_processed, y_train_processed = z_outlier_removal(x_train_processed, y_train_processed, z_threshold, feature_threshold)\n",
    "print(x_train_processed.shape)\n",
    "print(y_train_processed.shape)\n",
    "# x_train_processed = add_bias(x_train_processed)\n"
   ]
  },
  {
   "cell_type": "code",
   "execution_count": 18,
   "metadata": {},
   "outputs": [
    {
     "data": {
      "image/png": "[encoded data removed]",
      "text/plain": [
       "<Figure size 200x150 with 1 Axes>"
      ]
     },
     "metadata": {},
     "output_type": "display_data"
    }
   ],
   "source": [
    "# plot the data distribution of #9 feature of x_train\n",
    "column_data = x_train[:, 9]\n",
    "nan_count = np.isnan(column_data).sum()\n",
    "column_data_with_nan_marker = np.where(np.isnan(column_data), -1, column_data)\n",
    "bins = [-1.5, -0.5, 0.5, 1.5]\n",
    "plt.figure(figsize=(2, 1.5))\n",
    "sns.histplot(column_data_with_nan_marker, bins=bins, kde=False, color='skyblue', binwidth=0.2,stat=\"probability\")\n",
    "\n",
    "plt.xticks([-1, 1], ['NaN', '1'], fontsize=10)\n",
    "plt.xlim(-4, 4)\n",
    "# plt.xlabel('Values of feature \"CTELENUM\"')\n",
    "plt.ylabel('Fraction', fontsize=10)\n",
    "  # A vertical line to indicate NaNs\n",
    "plt.savefig('ctelenum.pdf', dpi=600, bbox_inches='tight')\n",
    "# plt.show()\n",
    "\n"
   ]
  },
  {
   "cell_type": "code",
   "execution_count": null,
   "metadata": {},
   "outputs": [],
   "source": []
  },
  {
   "cell_type": "code",
   "execution_count": null,
   "metadata": {},
   "outputs": [
    {
     "data": {
      "image/png": "[encoded data removed]",
      "text/plain": [
       "<Figure size 500x150 with 1 Axes>"
      ]
     },
     "metadata": {},
     "output_type": "display_data"
    }
   ],
   "source": [
    "# plot the data distribution of #41 feature of x_train\n",
    "column_data = x_train[:, 41]\n",
    "nan_count = np.isnan(column_data).sum()\n",
    "column_data_with_nan_marker = np.where(np.isnan(column_data), -1, column_data)\n",
    "unique_values = np.unique(column_data_with_nan_marker)\n",
    "bins = np.arange(unique_values.min() - 0.5, unique_values.max() + 1.5, 1)\n",
    "plt.figure(figsize=(5, 1.5))\n",
    "sns.histplot(column_data_with_nan_marker, bins=bins, kde=False, color='skyblue', stat=\"probability\", discrete=True)\n",
    "\n",
    "plt.xticks([-1, 1], ['NaN', '1'])\n",
    "xticks_labels = ['NaN' if int(val) == -1 else str(int(val)) for val in unique_values]\n",
    "plt.xticks(unique_values, xticks_labels)\n",
    "# \n",
    "# plt.xlabel('Values of feature \"ASTHNOW\"')\n",
    "plt.ylabel('Fraction')\n",
    "  # A vertical line to indicate NaNs\n",
    "\n",
    "plt.show()"
   ]
  },
  {
   "cell_type": "code",
   "execution_count": 4,
   "metadata": {},
   "outputs": [
    {
     "data": {
      "image/png": "[encoded data removed]",
      "text/plain": [
       "<Figure size 250x150 with 1 Axes>"
      ]
     },
     "metadata": {},
     "output_type": "display_data"
    }
   ],
   "source": [
    "# plot the data distribution of #49 feature of x_train\n",
    "column_data = x_train[:, 49]\n",
    "nan_count = np.isnan(column_data).sum()\n",
    "column_data_with_nan_marker = np.where(np.isnan(column_data), -1, column_data)\n",
    "unique_values = np.unique(column_data_with_nan_marker)\n",
    "bin_edges = np.concatenate([[-2, 0], np.arange(20, unique_values.max(),10)])\n",
    "plt.figure(figsize=(2.5, 1.5))\n",
    "sns.histplot(column_data_with_nan_marker, bins=bin_edges, kde=False, color='skyblue', stat=\"probability\")\n",
    "xticks = np.concatenate([[-1], np.arange(20, unique_values.max(),10)])\n",
    "xtick_labels = ['NaN'] + [str(i) for i in np.arange(20, unique_values.max(), 10).astype(int)]\n",
    "plt.xticks(xticks, xtick_labels, fontsize=10)\n",
    "\n",
    "\n",
    "# plt.xlabel('Values of feature \"DIABAGE2\"')\n",
    "plt.ylabel('Fraction',fontsize=10)\n",
    "  # A vertical line to indicate NaNs\n",
    "plt.savefig('diabage2.pdf', dpi=600, bbox_inches='tight')\n",
    "# plt.show()"
   ]
  },
  {
   "cell_type": "code",
   "execution_count": null,
   "metadata": {},
   "outputs": [
    {
     "data": {
      "text/plain": [
       "(109379, 603)"
      ]
     },
     "execution_count": 10,
     "metadata": {},
     "output_type": "execute_result"
    }
   ],
   "source": [
    "x_test_processed.shape"
   ]
  },
  {
   "cell_type": "code",
   "execution_count": null,
   "metadata": {},
   "outputs": [
    {
     "data": {
      "text/plain": [
       "550"
      ]
     },
     "execution_count": 6,
     "metadata": {},
     "output_type": "execute_result"
    }
   ],
   "source": [
    "np.sum(y_train_processed==1)"
   ]
  },
  {
   "cell_type": "code",
   "execution_count": null,
   "metadata": {},
   "outputs": [
    {
     "name": "stdout",
     "output_type": "stream",
     "text": [
      "(6368, 586)\n",
      "(6368,)\n",
      "0\n"
     ]
    }
   ],
   "source": [
    "print(x_train_processed.shape)\n",
    "print(y_train_processed.shape)\n",
    "print(np.sum(x_train_processed.std(axis=0) == 0))"
   ]
  },
  {
   "cell_type": "code",
   "execution_count": null,
   "metadata": {},
   "outputs": [],
   "source": [
    "# x_train_processed_orig = x_train.copy()\n",
    "# x_train_processed_orig = fillna_with_mean(x_train_processed_orig, threshold=threshold_nan)\n",
    "# x_train_processed_orig = standardize(x_train_processed_orig)\n",
    "# x_train_processed_orig = polynomial_expansion_single(x_train_processed_orig, degree=2)\n",
    "# x_train_processed_orig = standardize(x_train_processed_orig)\n",
    "# x_train_processed_orig = add_bias(x_train_processed_orig)\n",
    "# # add a column of ones\n",
    "# y_train_processed_orig = y_train.copy()\n",
    "# y_train_processed_orig = process_y(y_train_processed_orig)\n",
    "# print(np.isnan(x_train_processed_orig).any())"
   ]
  },
  {
   "cell_type": "code",
   "execution_count": null,
   "metadata": {},
   "outputs": [],
   "source": [
    "# print(x_train_processed_orig.shape)\n",
    "# print(y_train_processed_orig.shape)"
   ]
  },
  {
   "cell_type": "code",
   "execution_count": null,
   "metadata": {},
   "outputs": [],
   "source": [
    "# ## PCA feature selection \n",
    "# pre_train_data = x_train_processed.copy()\n",
    "\n",
    "# x_pca, eig_vec, eig_val,weight = pca(pre_train_data, 200)\n",
    "# print(weight)"
   ]
  },
  {
   "cell_type": "code",
   "execution_count": null,
   "metadata": {},
   "outputs": [],
   "source": [
    "# x_pca.shape"
   ]
  },
  {
   "cell_type": "code",
   "execution_count": null,
   "metadata": {},
   "outputs": [],
   "source": [
    "# cummulation = np.cumsum(weight)\n",
    "## cummulation\n",
    "# plt.plot(cummulation)"
   ]
  },
  {
   "cell_type": "code",
   "execution_count": null,
   "metadata": {},
   "outputs": [],
   "source": [
    "# x_pca.shape"
   ]
  },
  {
   "cell_type": "markdown",
   "metadata": {},
   "source": [
    "### Experiment ###"
   ]
  },
  {
   "cell_type": "code",
   "execution_count": null,
   "metadata": {},
   "outputs": [],
   "source": [
    "# ## linear regression using all the features except for those having NaN values over 50% ##\n",
    "# x_t, y_t, x_v, y_v = split_data(add_bias(x_train_processed), y_train_processed, 0.9)\n",
    "# # x_t, y_t = data_augmentation(x_t, y_t)\n",
    "# initial_w = np.random.randn(x_t.shape[1]) * 0.01\n",
    "# w, loss = mean_square_error_gd(y_t, x_t, initial_w, max_iters=500, gamma=0.01)\n",
    "# y_pred = x_v @ w\n",
    "# y_pred_mean = np.mean(y_pred)\n",
    "# y_pred = (y_pred > y_pred_mean).astype(int)\n",
    "# predict_acc_pure(y_pred, y_v)\n",
    "# predict_f1_pure(y_pred, y_v)"
   ]
  },
  {
   "cell_type": "code",
   "execution_count": null,
   "metadata": {},
   "outputs": [],
   "source": [
    "# x_train_processed.shape"
   ]
  },
  {
   "cell_type": "code",
   "execution_count": null,
   "metadata": {},
   "outputs": [],
   "source": [
    "# # logistic regression using all the features except for those having NaN values over 50% ##\n",
    "# x_t, y_t, x_v, y_v = split_data(add_bias(x_train_processed), y_train_processed, 0.9)\n",
    "# x_t, y_t = data_augmentation(x_t, y_t)\n",
    "# initial_w = np.random.randn(x_t.shape[1]) * 0.01\n",
    "# w, loss = logistic_regression(y_t, x_t, initial_w, max_iters=500, gamma=0.1)\n",
    "# y_pred = sigmoid(x_v @ w)\n",
    "# y_pred = (y_pred >= 0.7).astype(int)\n",
    "# predict_acc_pure(y_pred, y_v)\n",
    "# predict_f1_pure(y_pred, y_v)"
   ]
  },
  {
   "cell_type": "code",
   "execution_count": null,
   "metadata": {},
   "outputs": [],
   "source": [
    "# # logistic regression\n",
    "# x_t, y_t, x_v, y_v = split_data(add_bias(x_train_processed), y_train_processed, 0.9)\n",
    "# x_t, y_t = data_augmentation(x_t, y_t)\n",
    "# initial_w = np.random.randn(x_t.shape[1]) * 0.01\n",
    "# w, loss = reg_logistic_regression(y_t, x_t, lambda_=0.1, initial_w=initial_w, max_iters=500, gamma=0.15)\n",
    "# y_pred = (x_v @ w >= 0.75).astype(int)\n",
    "# predict_acc_pure(y_pred, y_v)\n",
    "# predict_f1_pure(y_pred, y_v)"
   ]
  },
  {
   "cell_type": "code",
   "execution_count": null,
   "metadata": {},
   "outputs": [],
   "source": [
    "# # ridge regression using all the features except for those having NaN values over 50% ##\n",
    "# x_t, y_t, x_v, y_v = split_data(add_bias(x_train_processed), y_train_processed, 0.9)\n",
    "# x_t, y_t = data_augmentation(x_t, y_t)\n",
    "# w, loss = ridge_regression(y_t, x_t, lambda_=0.01)\n",
    "# y_pred = x_v @ w\n",
    "# y_pred_mean = np.mean(y_pred)\n",
    "# y_pred = (y_pred > y_pred_mean).astype(int)\n",
    "# predict_acc_pure(y_pred, y_v)\n",
    "# predict_f1_pure(y_pred, y_v)"
   ]
  },
  {
   "cell_type": "markdown",
   "metadata": {},
   "source": [
    "#### Hinge loss gradient descent"
   ]
  },
  {
   "cell_type": "code",
   "execution_count": null,
   "metadata": {},
   "outputs": [],
   "source": [
    "# accs = []\n",
    "# f1 = []\n",
    "# for i in range(10):\n",
    "#     x_t, y_t, x_v, y_v = split_data(x_train_processed, y_train_processed, 0.9)\n",
    "#     x_t, y_t = data_augmentation(x_t, y_t)\n",
    "#     initial_w = np.random.randn(x_t.shape[1]) * 0.01\n",
    "#     w, loss = hinge_regression(y_t, x_t, initial_w, lambda_=0.1, max_iters=500, gamma=0.01)\n",
    "#     y_pred = ((x_v @ w) > 0.5).astype(int)\n",
    "#     accs.append(predict_acc_pure(y_pred, y_v))\n",
    "#     f1.append(predict_f1_pure(y_pred, y_v))\n",
    "# print(\"Final accuracy score is: \", np.mean(accs))\n",
    "# print(\"Final f1 score is: \", np.mean(f1))"
   ]
  },
  {
   "cell_type": "code",
   "execution_count": null,
   "metadata": {},
   "outputs": [],
   "source": [
    "# import sklearn.svm as svm\n",
    "# cls = svm.SVC(C=50, kernel='rbf')\n",
    "# x_t, y_t, x_v, y_v = split_data(x_train_processed_hinge, y_train_processed_hinge, 0.9)\n",
    "# cls.fit(x_t, y_t)\n",
    "# y_pred = cls.predict(x_v)\n",
    "# predict_acc_pure(y_pred, y_v)\n",
    "# predict_f1_pure(y_pred, y_v)"
   ]
  },
  {
   "cell_type": "markdown",
   "metadata": {},
   "source": [
    "#### PCA"
   ]
  },
  {
   "cell_type": "code",
   "execution_count": null,
   "metadata": {},
   "outputs": [],
   "source": [
    "# ## linear regression using PCA feature selection ##\n",
    "# x_pca_t = add_bias(x_pca)\n",
    "# x_t, y_t, x_v, y_v = split_data(x_pca_t, y_train_processed, 0.9)\n",
    "# # x_t, y_t = data_augmentation(x_t, y_t)\n",
    "# initial_w = np.random.randn(x_pca_t.shape[1]) * 0.01\n",
    "# w, loss = mean_square_error_gd(y_t, x_t, initial_w, max_iters = 500, gamma=0.05)\n",
    "# y_pred = x_v @ w\n",
    "# y_pred_mean = np.mean(y_pred)\n",
    "# y_pred = (y_pred >= y_pred_mean).astype(int)\n",
    "# predict_acc_pure(y_pred, y_v)\n",
    "# predict_f1_pure(y_pred, y_v)"
   ]
  },
  {
   "cell_type": "code",
   "execution_count": null,
   "metadata": {},
   "outputs": [],
   "source": [
    "# # logistic regression using pca feature selection #\n",
    "# x_pca_t = add_bias(x_pca)\n",
    "# x_t, y_t, x_v, y_v = split_data(x_pca_t, y_train_processed, 0.9)\n",
    "# x_t, y_t = data_augmentation(x_t, y_t)\n",
    "# initial_w = np.random.randn(x_pca_t.shape[1]) * 0.01\n",
    "# w, loss = logistic_regression(y_t, x_t, initial_w, max_iters=500, gamma=0.15)\n",
    "# y_pred = sigmoid(x_v @ w)\n",
    "# y_pred = (y_pred >= 0.7).astype(int)\n",
    "# predict_acc_pure(y_pred, y_v)\n",
    "# predict_f1_pure(y_pred, y_v)"
   ]
  },
  {
   "cell_type": "code",
   "execution_count": null,
   "metadata": {},
   "outputs": [],
   "source": [
    "# # logistic regression using pca feature selection #\n",
    "# initial_w = np.random.randn(x_pca.shape[1]) * 0.01\n",
    "# w, loss = reg_logistic_regression(y_train_processed, x_pca, lambda_=0.01, initial_w=initial_w, max_iters=100, gamma=0.15)\n",
    "# predict_acc(x_train_processed_orig_pca, y_train_processed_orig, w, logistic=False, threshold=0.85)\n",
    "# predict_f1(x_train_processed_orig_pca, y_train_processed_orig, w, logistic=False, threshold=0.85)"
   ]
  },
  {
   "cell_type": "code",
   "execution_count": null,
   "metadata": {},
   "outputs": [],
   "source": [
    "# x_t, y_t, x_v, y_v = split_data(x_pca, y_train_processed, 0.9)\n",
    "# x_t, y_t = data_augmentation(x_t, y_t)\n",
    "# initial_w = np.random.randn(x_t.shape[1]) * 0.01\n",
    "# w, loss = hinge_regression(y_t, x_t, initial_w, lambda_=0.3, max_iters=500, gamma=0.01)\n",
    "# y_pred = ((x_v @ w) > 1).astype(int)\n",
    "# predict_acc_pure(y_pred, y_v)\n",
    "# predict_f1_pure(y_pred, y_v)"
   ]
  },
  {
   "cell_type": "markdown",
   "metadata": {},
   "source": [
    "### Apply SVM to classification task"
   ]
  },
  {
   "cell_type": "code",
   "execution_count": null,
   "metadata": {},
   "outputs": [],
   "source": [
    "# w_svm, b_svm = SVM.gradient_descent(x_train_processed_orig_pca[:, 1:], y_train_processed_orig, epochs=500, lr=0.3)"
   ]
  },
  {
   "cell_type": "code",
   "execution_count": null,
   "metadata": {},
   "outputs": [],
   "source": [
    "# np.shape(x_train)"
   ]
  },
  {
   "cell_type": "markdown",
   "metadata": {},
   "source": [
    "### Apply Neural Network ###"
   ]
  },
  {
   "cell_type": "code",
   "execution_count": null,
   "metadata": {},
   "outputs": [],
   "source": [
    "def predict_1(network, X):\n",
    "    \n",
    "    # Get the final activations from forward propagation\n",
    "    # a2 = forward_propagation(network, X)[-1]\n",
    "    a4 = forward_propagation(network, X)[-1]\n",
    "    \n",
    "    # Convert activations to binary predictions (0 or 1)\n",
    "    # predictions = (np.squeeze(a2) > 0.5).astype(int)\n",
    "    predictions = (np.squeeze(a4) > 0.15).astype(int)\n",
    "    \n",
    "    return predictions"
   ]
  },
  {
   "cell_type": "code",
   "execution_count": null,
   "metadata": {},
   "outputs": [
    {
     "name": "stdout",
     "output_type": "stream",
     "text": [
      "The Accuracy is: 0.8197\n",
      "The F1 score is: 0.3438\n",
      "The precision is: 0.2564\n",
      "The recall is: 0.5217\n"
     ]
    },
    {
     "data": {
      "text/plain": [
       "[<matplotlib.lines.Line2D at 0x7f8214dcf490>]"
      ]
     },
     "execution_count": 19,
     "metadata": {},
     "output_type": "execute_result"
    },
    {
     "data": {
      "image/png": "[encoded data removed]",
      "text/plain": [
       "<Figure size 640x480 with 1 Axes>"
      ]
     },
     "metadata": {},
     "output_type": "display_data"
    }
   ],
   "source": [
    "y_pred = predict_1(nn_trained,x_v)\n",
    "predict_acc_pure(y_pred, y_v)\n",
    "predict_f1_pure(y_pred, y_v)\n",
    "plt.figure()\n",
    "plt.plot(loss)"
   ]
  },
  {
   "cell_type": "code",
   "execution_count": null,
   "metadata": {},
   "outputs": [
    {
     "name": "stdout",
     "output_type": "stream",
     "text": [
      "Epoch: 0 Loss: 0.4222639641405998 Validation F1: [0.22551252847380415, 0.2743362831858407, 0.30990990990990996, 0.3463203463203463, 0.4043715846994535, 0.4081632653061224, 0.4, 0.3707865168539325, 0.22388059701492535] Validation Acc: [0.4662480376766091, 0.6138147566718996, 0.6993720565149136, 0.7629513343799058, 0.8288854003139717, 0.8634222919937206, 0.8916797488226059, 0.9120879120879121, 0.9183673469387755]\n",
      "Epoch: 2 Loss: 0.2536075848646524 Validation F1: [0.2796992481203007, 0.3051470588235294, 0.3367983367983368, 0.36231884057971014, 0.39106145251396646, 0.41721854304635764, 0.3938223938223938, 0.39449541284403666, 0.3536585365853659] Validation Acc: [0.6240188383045526, 0.7032967032967034, 0.749607535321821, 0.792778649921507, 0.8288854003139717, 0.8618524332810047, 0.8767660910518054, 0.8963893249607535, 0.9167974882260597]\n",
      "Epoch: 4 Loss: 0.11357894595936015 Validation F1: [0.3458646616541353, 0.38271604938271603, 0.38461538461538464, 0.38056680161943324, 0.36607142857142855, 0.3529411764705882, 0.3425414364640884, 0.33121019108280253, 0.234375] Validation Acc: [0.7951334379905809, 0.8430141287284144, 0.8618524332810047, 0.8799058084772371, 0.8885400313971743, 0.8963893249607535, 0.9065934065934066, 0.9175824175824175, 0.9230769230769231]\n",
      "Epoch: 6 Loss: 0.187685701557593 Validation F1: [0.3545706371191136, 0.35761589403973515, 0.356060606060606, 0.371900826446281, 0.383177570093458, 0.3711340206185567, 0.3502824858757062, 0.3229813664596274, 0.26666666666666666] Validation Acc: [0.8171114599686028, 0.847723704866562, 0.8665620094191523, 0.880690737833595, 0.8963893249607535, 0.9042386185243328, 0.9097331240188383, 0.9144427001569859, 0.9222919937205651]\n",
      "Epoch: 8 Loss: 0.048956546891830016 Validation F1: [0.35526315789473684, 0.33204633204633205, 0.3596491228070175, 0.40196078431372556, 0.35359116022099446, 0.33333333333333337, 0.3205128205128205, 0.2695035460992908, 0.22388059701492535] Validation Acc: [0.8461538461538461, 0.8642072213500785, 0.8854003139717426, 0.9042386185243328, 0.9081632653061225, 0.9120879120879121, 0.9167974882260597, 0.9191522762951334, 0.9183673469387755]\n",
      "Epoch: 10 Loss: 0.023546168025775194 Validation F1: [0.3533333333333334, 0.3448275862068965, 0.3459915611814346, 0.37320574162679426, 0.3857868020304568, 0.3666666666666667, 0.32530120481927705, 0.304635761589404, 0.26086956521739124] Validation Acc: [0.847723704866562, 0.8657770800627943, 0.8783359497645212, 0.8971742543171115, 0.9050235478806907, 0.9105180533751962, 0.9120879120879121, 0.9175824175824175, 0.9199372056514914]\n",
      "Epoch: 12 Loss: 0.04077095474296205 Validation F1: [0.3511450381679389, 0.34934497816593885, 0.3557692307692308, 0.351063829787234, 0.3448275862068965, 0.30864197530864196, 0.2837837837837838, 0.27338129496402874, 0.22388059701492535] Validation Acc: [0.8665620094191523, 0.8830455259026687, 0.8948194662480377, 0.9042386185243328, 0.9105180533751962, 0.9120879120879121, 0.9167974882260597, 0.9207221350078493, 0.9183673469387755]\n",
      "Early stopping at epoch 13\n"
     ]
    },
    {
     "data": {
      "text/plain": [
       "[<matplotlib.lines.Line2D at 0x7fe74a3e61a0>]"
      ]
     },
     "execution_count": 11,
     "metadata": {},
     "output_type": "execute_result"
    },
    {
     "data": {
      "image/png": "[encoded data removed]",
      "text/plain": [
       "<Figure size 640x480 with 1 Axes>"
      ]
     },
     "metadata": {},
     "output_type": "display_data"
    }
   ],
   "source": [
    "x_t, y_t, x_v, y_v = split_data(x_train_processed, y_train_processed, 0.8)\n",
    "x_t, y_t = data_augmentation(x_t, y_t)\n",
    "# x_t, _, _, _= pca(x_t, 100)\n",
    "nn = initialize_network(input_size=np.shape(x_t)[1], hidden_size1=512, hidden_size2=128, hidden_size3=32, output_size=1)\n",
    "nn_trained, loss = train(nn, x_t, y_t, x_v, y_v, learning_rate=0.05, epochs=1000, batch_size=200)\n",
    "# y_pred = predict_1(nn_trained,x_v)\n",
    "# predict_acc_pure(y_pred, y_v)\n",
    "# predict_f1_pure(y_pred, y_v)\n",
    "plt.figure()\n",
    "plt.plot(loss)"
   ]
  },
  {
   "cell_type": "code",
   "execution_count": null,
   "metadata": {},
   "outputs": [
    {
     "data": {
      "text/plain": [
       "[<matplotlib.lines.Line2D at 0x7f9f99b0e720>]"
      ]
     },
     "execution_count": 12,
     "metadata": {},
     "output_type": "execute_result"
    },
    {
     "data": {
      "image/png": "[encoded data removed]",
      "text/plain": [
       "<Figure size 640x480 with 1 Axes>"
      ]
     },
     "metadata": {},
     "output_type": "display_data"
    }
   ],
   "source": [
    "np.savez(\"./with_one_hot_deeper\", network=nn_trained)\n",
    "nn_trained\n",
    "plt.figure()\n",
    "plt.plot(loss)"
   ]
  },
  {
   "cell_type": "code",
   "execution_count": null,
   "metadata": {},
   "outputs": [
    {
     "name": "stdout",
     "output_type": "stream",
     "text": [
      "99355\n",
      "(109379,)\n"
     ]
    }
   ],
   "source": [
    "import pandas as pd\n",
    "last_pred = pd.read_csv('./submission_NN.csv')\n",
    "last_pred = last_pred.to_numpy()\n",
    "print(sum(test_pred==last_pred[:, 1]))\n",
    "print(test_pred.shape)"
   ]
  },
  {
   "cell_type": "code",
   "execution_count": null,
   "metadata": {},
   "outputs": [
    {
     "name": "stdout",
     "output_type": "stream",
     "text": [
      "The Accuracy is: 0.0000\n",
      "The F1 score is: 0.1550\n",
      "The precision is: 0.0840\n",
      "The recall is: 1.0000\n"
     ]
    },
    {
     "data": {
      "text/plain": [
       "0.15496017378711077"
      ]
     },
     "execution_count": 29,
     "metadata": {},
     "output_type": "execute_result"
    }
   ],
   "source": [
    "a2 = forward_propagation(nn_trained, x_v)[-1]\n",
    "    \n",
    "    \n",
    "y_pred = (np.squeeze(a2) > 0).astype(int)\n",
    "predict_acc_pure(y_pred, y_v)\n",
    "predict_f1_pure(y_pred, y_v)\n"
   ]
  },
  {
   "cell_type": "code",
   "execution_count": null,
   "metadata": {},
   "outputs": [],
   "source": [
    "y_pred = predict(nn_trained,x_v)"
   ]
  },
  {
   "cell_type": "code",
   "execution_count": null,
   "metadata": {},
   "outputs": [
    {
     "data": {
      "text/plain": [
       "0.08398744113029827"
      ]
     },
     "execution_count": 31,
     "metadata": {},
     "output_type": "execute_result"
    }
   ],
   "source": [
    "y_v.mean()"
   ]
  },
  {
   "cell_type": "markdown",
   "metadata": {},
   "source": [
    "### Test NN ### "
   ]
  },
  {
   "cell_type": "markdown",
   "metadata": {},
   "source": [
    "### Test NN Class ###"
   ]
  },
  {
   "cell_type": "code",
   "execution_count": 6,
   "metadata": {},
   "outputs": [
    {
     "name": "stdout",
     "output_type": "stream",
     "text": [
      "Epoch: 0 Loss: 0.30399929167119044 Validation F1: [0.23786955243773114, 0.14312770198224647, 0.006341377289293535, 0.0, 0.0, 0.0, 0.0, 0.0, 0.0] Validation Acc: [0.6282240815299447, 0.9003837443381983, 0.9112827126321087, 0.9115815299446401, 0.9116129843985908, 0.9116129843985908, 0.9116129843985908, 0.9116129843985908, 0.9116129843985908]\n",
      "Epoch: 2 Loss: 0.2702457749608806 Validation F1: [0.2786890875922615, 0.25982461361713866, 0.051006710333372396, 0.0024844719965836553, 0.0, 0.0, 0.0, 0.0, 0.0] Validation Acc: [0.6715054101660796, 0.8924729491696024, 0.9110468042274786, 0.9115972571716155, 0.9116129843985908, 0.9116129843985908, 0.9116129843985908, 0.9116129843985908, 0.9116129843985908]\n",
      "Epoch: 4 Loss: 0.27577714761589656 Validation F1: [0.2938610020713492, 0.31786315943287047, 0.14273049363647475, 0.018178639750969772, 0.0, 0.0, 0.0, 0.0, 0.0] Validation Acc: [0.6767268495218923, 0.8791048062405636, 0.908750629089079, 0.9116601660795168, 0.9115972571716155, 0.9116129843985908, 0.9116129843985908, 0.9116129843985908, 0.9116129843985908]\n",
      "Epoch: 6 Loss: 0.25084290997347897 Validation F1: [0.3067984521901981, 0.3413609130954253, 0.2079194770562901, 0.0554249233613735, 0.0, 0.0, 0.0, 0.0, 0.0] Validation Acc: [0.6922653497735279, 0.8718231001509814, 0.9059354554604933, 0.9115500754906894, 0.9115972571716155, 0.9116129843985908, 0.9116129843985908, 0.9116129843985908, 0.9116129843985908]\n",
      "Epoch: 8 Loss: 0.2546432346483592 Validation F1: [0.3161379478526694, 0.35343098969134235, 0.24408961081619054, 0.08414554746778793, 0.003195455306326314, 0.0, 0.0, 0.0, 0.0] Validation Acc: [0.7043595873175642, 0.8681114745848012, 0.9039538248616004, 0.9113298943130347, 0.9116916205334675, 0.9116129843985908, 0.9116129843985908, 0.9116129843985908, 0.9116129843985908]\n",
      "Epoch: 10 Loss: 0.24925870132644284 Validation F1: [0.3226044012247446, 0.3654302621998382, 0.27399507343529234, 0.1226650040364337, 0.0053144374671582045, 0.0, 0.0, 0.0, 0.0] Validation Acc: [0.7107133870156014, 0.8654693004529441, 0.9025698288877705, 0.9113613487669854, 0.9116916205334675, 0.9116129843985908, 0.9116129843985908, 0.9116129843985908, 0.9116129843985908]\n",
      "Epoch: 12 Loss: 0.25591018230681134 Validation F1: [0.3276470773802417, 0.3722780824199438, 0.2978339303766341, 0.14910025451673545, 0.007777974061284154, 0.0, 0.0, 0.0, 0.0] Validation Acc: [0.7154787367891293, 0.8635348515349773, 0.9021137393054857, 0.9115028938097635, 0.9117230749874182, 0.9116129843985908, 0.9116129843985908, 0.9116129843985908, 0.9116129843985908]\n",
      "Epoch: 14 Loss: 0.23634646296519954 Validation F1: [0.3310385856100845, 0.37948572564394956, 0.3087642848522259, 0.16902654583568455, 0.011629955755141535, 0.0, 0.0, 0.0, 0.0] Validation Acc: [0.717271640664318, 0.861852038248616, 0.9001478359335682, 0.9113928032209361, 0.9117859838953196, 0.9116129843985908, 0.9116129843985908, 0.9116129843985908, 0.9116129843985908]\n",
      "Epoch: 16 Loss: 0.2272166647483361 Validation F1: [0.3382791553250311, 0.3826483319743269, 0.3159612617041296, 0.17593676523077706, 0.014416314812934332, 0.0, 0.0, 0.0, 0.0] Validation Acc: [0.7278560644187216, 0.8636921238047307, 0.9011229240060392, 0.9114557121288375, 0.9118331655762456, 0.9116129843985908, 0.9116129843985908, 0.9116129843985908, 0.9116129843985908]\n",
      "Epoch: 18 Loss: 0.2538419117535816 Validation F1: [0.34147465099276286, 0.3856691206159452, 0.32711773627082746, 0.19150467653736006, 0.017540782038706584, 0.0, 0.0, 0.0, 0.0] Validation Acc: [0.7303095118268746, 0.8624654001006542, 0.9006825616507298, 0.9116916205334675, 0.9119118017111223, 0.9116129843985908, 0.9116129843985908, 0.9116129843985908, 0.9116129843985908]\n",
      "Epoch: 20 Loss: 0.23102046980124516 Validation F1: [0.3439190199350061, 0.38860573425227113, 0.3337198223018779, 0.20334656511225985, 0.022024121310124302, 0.0, 0.0, 0.0, 0.0] Validation Acc: [0.732920231504781, 0.8622766733769501, 0.9005881982888777, 0.9116444388525415, 0.9120061650729744, 0.9116129843985908, 0.9116129843985908, 0.9116129843985908, 0.9116129843985908]\n",
      "Epoch: 22 Loss: 0.25034676364799957 Validation F1: [0.34567516771005424, 0.3917168731450171, 0.33931552102503115, 0.2124265289662996, 0.027511753019699905, 0.0, 0.0, 0.0, 0.0] Validation Acc: [0.7354051333668847, 0.8618677654755913, 0.9004151987921489, 0.9114871665827882, 0.9121634373427278, 0.9116129843985908, 0.9116129843985908, 0.9116129843985908, 0.9116129843985908]\n",
      "Epoch: 24 Loss: 0.23824277894152424 Validation F1: [0.34742114394274026, 0.39533760474238133, 0.34520490892979927, 0.2239115376510771, 0.03497835445584484, 0.0, 0.0, 0.0, 0.0] Validation Acc: [0.7377327629592351, 0.8621194011071968, 0.9002421992954203, 0.9116916205334675, 0.9123521640664318, 0.9116129843985908, 0.9116129843985908, 0.9116129843985908, 0.9116129843985908]\n",
      "Epoch: 26 Loss: 0.2460886431024988 Validation F1: [0.3467350313534285, 0.398971787209817, 0.3527629004350197, 0.23898350540437163, 0.042662996089335, 0.0, 0.0, 0.0, 0.0] Validation Acc: [0.7355152239557121, 0.8602635883241067, 0.8992356567689985, 0.9114557121288375, 0.9124779818822345, 0.9116129843985908, 0.9116129843985908, 0.9116129843985908, 0.9116129843985908]\n",
      "Epoch: 28 Loss: 0.22429773951060455 Validation F1: [0.3491291351158352, 0.4020366551579371, 0.35701347868341216, 0.2445250534012077, 0.049820848895614826, 0.0, 0.0, 0.0, 0.0] Validation Acc: [0.7390538500251636, 0.8614745848012079, 0.8995030196275793, 0.9115658027176649, 0.9124150729743332, 0.9116129843985908, 0.9116129843985908, 0.9116129843985908, 0.9116129843985908]\n",
      "Epoch: 30 Loss: 0.23941187279933437 Validation F1: [0.3517763045115175, 0.404323290770971, 0.36082990386962077, 0.24872960311151104, 0.05564981248280303, 0.0, 0.0, 0.0, 0.0] Validation Acc: [0.742592476094615, 0.8621823100150982, 0.8997074735782586, 0.9116444388525415, 0.9124622546552592, 0.9116129843985908, 0.9116129843985908, 0.9116129843985908, 0.9116129843985908]\n",
      "Epoch: 32 Loss: 0.23762446106068955 Validation F1: [0.3538861104030051, 0.40583066076013014, 0.3653999950761493, 0.25056643633031844, 0.06044234243606276, 0.0, 0.0, 0.0, 0.0] Validation Acc: [0.7457064670357323, 0.8628113990941118, 0.9001950176144942, 0.9115658027176649, 0.9124779818822345, 0.9116129843985908, 0.9116129843985908, 0.9116129843985908, 0.9116129843985908]\n",
      "Epoch: 34 Loss: 0.2391373942589259 Validation F1: [0.35455600115537045, 0.4066485705866504, 0.3701870682091845, 0.259229953967169, 0.06749496199760749, 0.0, 0.0, 0.0, 0.0] Validation Acc: [0.7463355561147459, 0.8624496728736789, 0.8999276547559134, 0.9116444388525415, 0.9126509813789633, 0.9116129843985908, 0.9116129843985908, 0.9116129843985908, 0.9116129843985908]\n",
      "Epoch: 36 Loss: 0.23966928135432747 Validation F1: [0.3558598434568425, 0.40750815632155424, 0.37056088140075905, 0.2603550257274147, 0.07109479189260247, 0.0, 0.0, 0.0, 0.0] Validation Acc: [0.7484587317564168, 0.8629843985908404, 0.8999276547559134, 0.9115343482637142, 0.9124622546552592, 0.9116129843985908, 0.9116129843985908, 0.9116129843985908, 0.9116129843985908]\n",
      "Epoch: 38 Loss: 0.23000043985439236 Validation F1: [0.3596263800183101, 0.4074202208982046, 0.36832596858587546, 0.25617857713645653, 0.07291493137292993, 0.0, 0.0, 0.0, 0.0] Validation Acc: [0.7552371665827882, 0.8653592098641167, 0.9010128334172118, 0.9119589833920483, 0.9124150729743332, 0.9116129843985908, 0.9116129843985908, 0.9116129843985908, 0.9116129843985908]\n",
      "Epoch: 40 Loss: 0.22662380009995378 Validation F1: [0.35783735052646626, 0.4102424360263273, 0.3739421324300631, 0.2669104165685552, 0.08614170498817865, 0.0, 0.0, 0.0, 0.0] Validation Acc: [0.7517457221942627, 0.8638022143935581, 0.8999433819828888, 0.9117073477604429, 0.9125723452440866, 0.9116129843985908, 0.9116129843985908, 0.9116129843985908, 0.9116129843985908]\n",
      "Epoch: 42 Loss: 0.2421107388598669 Validation F1: [0.35884249268907203, 0.4107276516636093, 0.37523341028745494, 0.2681244266319879, 0.09871314391522498, 0.0, 0.0, 0.0, 0.0] Validation Acc: [0.7529409914443885, 0.8638493960744842, 0.9000220181177655, 0.9115658027176649, 0.9129812531454454, 0.9116129843985908, 0.9116129843985908, 0.9116129843985908, 0.9116129843985908]\n",
      "Epoch: 44 Loss: 0.2157770574720686 Validation F1: [0.36203181611554464, 0.41088903729334575, 0.37451622013283986, 0.2672064738269247, 0.10223953101451233, 0.0, 0.0, 0.0, 0.0] Validation Acc: [0.7578321590337191, 0.8655636638147962, 0.9008712883744339, 0.9117545294413689, 0.9129969803724207, 0.9116129843985908, 0.9116129843985908, 0.9116129843985908, 0.9116129843985908]\n",
      "Epoch: 46 Loss: 0.238963117912749 Validation F1: [0.3599737927225768, 0.4116849620717406, 0.37823075677387125, 0.2747422640460822, 0.11269866575831859, 0.0, 0.0, 0.0, 0.0] Validation Acc: [0.7541519879214896, 0.8634876698540513, 0.8997389280322093, 0.9114871665827882, 0.9130756165072974, 0.9116129843985908, 0.9116129843985908, 0.9116129843985908, 0.9116129843985908]\n",
      "Epoch: 48 Loss: 0.23768848645422952 Validation F1: [0.36122876644199503, 0.4115773015935312, 0.3792465637187321, 0.2768993403777774, 0.12223459941696453, 0.0, 0.0, 0.0, 0.0] Validation Acc: [0.7557089833920483, 0.8634719426270759, 0.8997074735782586, 0.9115343482637142, 0.9132643432310015, 0.9116129843985908, 0.9116129843985908, 0.9116129843985908, 0.9116129843985908]\n",
      "Epoch: 50 Loss: 0.2274358821720558 Validation F1: [0.36196898933133115, 0.4129346455368243, 0.38025026179724375, 0.2794927588711973, 0.12916469087997431, 0.0, 0.0, 0.0, 0.0] Validation Acc: [0.7559920734776044, 0.863519124308002, 0.8995187468545546, 0.9115343482637142, 0.9132643432310015, 0.9116129843985908, 0.9116129843985908, 0.9116129843985908, 0.9116129843985908]\n",
      "Epoch: 52 Loss: 0.24167573924515884 Validation F1: [0.3633136547515769, 0.4131614606816212, 0.38102628274980804, 0.2818018899967887, 0.13653483784247253, 0.0, 0.0, 0.0, 0.0] Validation Acc: [0.757407523905385, 0.8639594866633116, 0.8996445646703574, 0.9117388022143935, 0.913468797181681, 0.9116129843985908, 0.9116129843985908, 0.9116129843985908, 0.9116129843985908]\n",
      "Epoch: 54 Loss: 0.23622676371766976 Validation F1: [0.3616907840388328, 0.41469639508470213, 0.381895055573378, 0.285968249880461, 0.14674335236934521, 0.0, 0.0, 0.0, 0.0] Validation Acc: [0.7551428032209361, 0.8629529441368898, 0.898842476094615, 0.9115658027176649, 0.9136732511323603, 0.9116129843985908, 0.9116129843985908, 0.9116129843985908, 0.9116129843985908]\n",
      "Epoch: 56 Loss: 0.22724049758687612 Validation F1: [0.3649245608868724, 0.4144893874537058, 0.38029402678361285, 0.28212683773582553, 0.14365845840161395, 0.0, 0.0, 0.0, 0.0] Validation Acc: [0.7603485153497735, 0.8650132108706593, 0.8998962003019627, 0.9118803472571716, 0.9135631605435329, 0.9116129843985908, 0.9116129843985908, 0.9116129843985908, 0.9116129843985908]\n",
      "Epoch: 58 Loss: 0.21505181050560013 Validation F1: [0.3654223932616203, 0.4143404440893987, 0.38034895693210113, 0.2825278770118715, 0.14598539923909187, 0.0, 0.0, 0.0, 0.0] Validation Acc: [0.7612449672873679, 0.8653749370910921, 0.9000220181177655, 0.9119747106190237, 0.9135159788626069, 0.9116129843985908, 0.9116129843985908, 0.9116129843985908, 0.9116129843985908]\n",
      "Epoch: 60 Loss: 0.23298257527289476 Validation F1: [0.3634262090265678, 0.4157894689754188, 0.38304008733061545, 0.28683643324790115, 0.15476922842764215, 0.0, 0.0, 0.0, 0.0] Validation Acc: [0.7574704328132864, 0.8638336688475088, 0.899078384499245, 0.9114714393558128, 0.9135946149974836, 0.9116129843985908, 0.9116129843985908, 0.9116129843985908, 0.9116129843985908]\n",
      "Epoch: 62 Loss: 0.22869861569539912 Validation F1: [0.3641783593651439, 0.41647503924751145, 0.3841416424536476, 0.2878116653011809, 0.15823366826921004, 0.0, 0.0, 0.0, 0.0] Validation Acc: [0.7584769753397081, 0.864305485656769, 0.8993457473578259, 0.9115028938097635, 0.913657523905385, 0.9116129843985908, 0.9116129843985908, 0.9116129843985908, 0.9116129843985908]\n",
      "Epoch: 64 Loss: 0.2101738172874392 Validation F1: [0.36404977112354375, 0.4168350121299378, 0.3862002825230265, 0.2910786248981806, 0.16424973042633334, 0.0, 0.0, 0.0, 0.0] Validation Acc: [0.7580680674383493, 0.8638022143935581, 0.8992671112229492, 0.9115186210367388, 0.9138934323100151, 0.9116129843985908, 0.9116129843985908, 0.9116129843985908, 0.9116129843985908]\n",
      "Epoch: 66 Loss: 0.21952632144115558 Validation F1: [0.36458332976621, 0.41672267307766664, 0.38613291975552594, 0.2924005997825562, 0.1684146501918893, 0.0, 0.0, 0.0, 0.0] Validation Acc: [0.758241066935078, 0.863519124308002, 0.8991884750880724, 0.9115500754906894, 0.9139563412179165, 0.9116129843985908, 0.9116129843985908, 0.9116129843985908, 0.9116129843985908]\n",
      "Epoch: 68 Loss: 0.2366771575822028 Validation F1: [0.3644025745203772, 0.4167281956095436, 0.3882251694509932, 0.29349735963998835, 0.17065777255772993, 0.0, 0.0, 0.0, 0.0] Validation Acc: [0.7580523402113739, 0.8633461248112733, 0.8993300201308505, 0.9114871665827882, 0.9139406139909411, 0.9116129843985908, 0.9116129843985908, 0.9116129843985908, 0.9116129843985908]\n",
      "Epoch: 70 Loss: 0.23682980901981904 Validation F1: [0.36743091938013606, 0.41773102457050654, 0.3865774366070967, 0.28807315735157696, 0.1667428721042358, 0.0, 0.0, 0.0, 0.0] Validation Acc: [0.7630850528434826, 0.865925390035229, 0.9005252893809763, 0.9118488928032209, 0.9140192501258179, 0.9116129843985908, 0.9116129843985908, 0.9116129843985908, 0.9116129843985908]\n",
      "Epoch: 72 Loss: 0.22420746164176056 Validation F1: [0.3680181659724489, 0.4175553685244143, 0.38613860890208734, 0.28810975201208805, 0.16864535521217106, 0.0, 0.0, 0.0, 0.0] Validation Acc: [0.7636826874685455, 0.8660040261701056, 0.9005410166079517, 0.9118646200301963, 0.9140978862606945, 0.9116129843985908, 0.9116129843985908, 0.9116129843985908, 0.9116129843985908]\n",
      "Epoch: 74 Loss: 0.218880815774547 Validation F1: [0.3659033254580562, 0.4170827101747354, 0.38976716950427426, 0.29337023110601823, 0.17479245025594511, 0.0, 0.0, 0.0, 0.0] Validation Acc: [0.7600496980372421, 0.8641167589330649, 0.8998332913940614, 0.9116601660795168, 0.9140192501258179, 0.9116129843985908, 0.9116129843985908, 0.9116129843985908, 0.9116129843985908]\n",
      "Epoch: 76 Loss: 0.23171843427348274 Validation F1: [0.3652087521716039, 0.41748223152806435, 0.3904852471641971, 0.29826531466703254, 0.17914036407123402, 0.0, 0.0, 0.0, 0.0] Validation Acc: [0.7587286109713135, 0.863330397584298, 0.8992513839959738, 0.9115658027176649, 0.9140978862606945, 0.9116129843985908, 0.9116129843985908, 0.9116129843985908, 0.9116129843985908]\n",
      "Epoch: 78 Loss: 0.2342466094349829 Validation F1: [0.3663119352282897, 0.418135337688939, 0.3905280194698797, 0.29644466282845405, 0.17845320232384582, 0.0, 0.0, 0.0, 0.0] Validation Acc: [0.7602541519879215, 0.8639594866633116, 0.8996131102164067, 0.9116129843985908, 0.9141293407146452, 0.9116129843985908, 0.9116129843985908, 0.9116129843985908, 0.9116129843985908]\n",
      "Epoch: 80 Loss: 0.22615739629110024 Validation F1: [0.36751599991724215, 0.418475683391545, 0.39025325673365135, 0.2951890424496818, 0.17644397268275186, 0.0, 0.0, 0.0, 0.0] Validation Acc: [0.7622515098137896, 0.8647615752390538, 0.9000377453447408, 0.9117545294413689, 0.9141136134876698, 0.9116129843985908, 0.9116129843985908, 0.9116129843985908, 0.9116129843985908]\n",
      "Epoch: 82 Loss: 0.2245844083608419 Validation F1: [0.36525483019692373, 0.41944314146817224, 0.3919341046477433, 0.30033535785055343, 0.18309648198798525, 0.0, 0.0, 0.0, 0.0] Validation Acc: [0.758885883241067, 0.8632517614494213, 0.8989840211373931, 0.9114085304479114, 0.9141136134876698, 0.9116129843985908, 0.9116129843985908, 0.9116129843985908, 0.9116129843985908]\n",
      "Epoch: 84 Loss: 0.2229252303124533 Validation F1: [0.3661000005756045, 0.41905016611323154, 0.3925553079076836, 0.300049796593677, 0.18263472786832627, 0.0, 0.0, 0.0, 0.0] Validation Acc: [0.7601440613990941, 0.8635977604428787, 0.8993929290387519, 0.9115815299446401, 0.9141293407146452, 0.9116129843985908, 0.9116129843985908, 0.9116129843985908, 0.9116129843985908]\n",
      "Epoch: 86 Loss: 0.22150990776217544 Validation F1: [0.3688877592376651, 0.4189152310325612, 0.38914114081914586, 0.2948960261124028, 0.17784476003042488, 0.0, 0.0, 0.0, 0.0] Validation Acc: [0.7649408656265727, 0.865878208354303, 0.900556743834927, 0.9120061650729744, 0.9142079768495219, 0.9116129843985908, 0.9116129843985908, 0.9116129843985908, 0.9116129843985908]\n",
      "Epoch: 88 Loss: 0.2275966974635479 Validation F1: [0.36738612758170713, 0.4194284133885492, 0.3937292111743456, 0.3014925331047425, 0.1836124375070701, 0.0, 0.0, 0.0, 0.0] Validation Acc: [0.7616853296426774, 0.8638965777554102, 0.8996445646703574, 0.9116758933064922, 0.9141293407146452, 0.9116129843985908, 0.9116129843985908, 0.9116129843985908, 0.9116129843985908]\n",
      "Epoch: 90 Loss: 0.22759308507298082 Validation F1: [0.36844761944331694, 0.4192346718844844, 0.39140856727994106, 0.29959919422761105, 0.1820362846478344, 0.0, 0.0, 0.0, 0.0] Validation Acc: [0.7639028686462003, 0.865139028686462, 0.9001792903875189, 0.9120533467539004, 0.9142079768495219, 0.9116129843985908, 0.9116129843985908, 0.9116129843985908, 0.9116129843985908]\n",
      "Epoch: 92 Loss: 0.24134445344176159 Validation F1: [0.36889356856556543, 0.4195604944679423, 0.39131687141170196, 0.29957382386221487, 0.18263607472130688, 0.0, 0.0, 0.0, 0.0] Validation Acc: [0.7645162304982386, 0.8654063915450427, 0.9003365626572722, 0.9121162556618017, 0.9142708857574232, 0.9116129843985908, 0.9116129843985908, 0.9116129843985908, 0.9116129843985908]\n",
      "Epoch: 94 Loss: 0.22484573460024246 Validation F1: [0.36689391061904414, 0.4198122581482765, 0.3938994489796556, 0.30596369497341436, 0.19261017678176443, 0.0, 0.0, 0.0, 0.0] Validation Acc: [0.7604743331655762, 0.8629372169099144, 0.898748112732763, 0.9115972571716155, 0.9144281580271767, 0.9116129843985908, 0.9116129843985908, 0.9116129843985908, 0.9116129843985908]\n",
      "Epoch: 96 Loss: 0.23016970531782474 Validation F1: [0.3679178286487756, 0.4202501123411018, 0.39338686322813315, 0.30529054217076945, 0.19033456974386537, 0.0, 0.0, 0.0, 0.0] Validation Acc: [0.7619055108203322, 0.8636606693507801, 0.8990154755913438, 0.9118174383492702, 0.9143652491192753, 0.9116129843985908, 0.9116129843985908, 0.9116129843985908, 0.9116129843985908]\n",
      "Epoch: 98 Loss: 0.22865503937119933 Validation F1: [0.36861298210465393, 0.42019740347859336, 0.3930164102410356, 0.30515207523472965, 0.1893702518444822, 0.0, 0.0, 0.0, 0.0] Validation Acc: [0.763100780070458, 0.8641953950679416, 0.8993929290387519, 0.9119747106190237, 0.9143652491192753, 0.9116129843985908, 0.9116129843985908, 0.9116129843985908, 0.9116129843985908]\n",
      "Epoch: 100 Loss: 0.22812198317253302 Validation F1: [0.3671822984805579, 0.4206956127951385, 0.395154469613212, 0.30846997478415, 0.1966292106720547, 0.0, 0.0, 0.0, 0.0] Validation Acc: [0.7606630598892803, 0.8630001258178158, 0.8987009310518369, 0.9117859838953196, 0.9145382486160041, 0.9116129843985908, 0.9116129843985908, 0.9116129843985908, 0.9116129843985908]\n",
      "Epoch: 102 Loss: 0.23551545370009372 Validation F1: [0.36755586640647625, 0.42067451138240375, 0.39492242096748353, 0.30866024741207443, 0.1966292106720547, 0.0003558085714279385, 0.0, 0.0, 0.0] Validation Acc: [0.7609933316557624, 0.8630315802717665, 0.898795294413689, 0.9118646200301963, 0.9145382486160041, 0.9116287116255661, 0.9116129843985908, 0.9116129843985908, 0.9116129843985908]\n",
      "Epoch: 104 Loss: 0.20808131392096538 Validation F1: [0.3709409675480425, 0.4203830322023738, 0.39080459273709617, 0.29976169156182125, 0.18326334468065208, 0.0003558085714279385, 0.0, 0.0, 0.0] Validation Acc: [0.7675358580775038, 0.8667274786109713, 0.9008083794665325, 0.9121948917966785, 0.9143495218922999, 0.9116287116255661, 0.9116129843985908, 0.9116129843985908, 0.9116129843985908]\n",
      "Epoch: 106 Loss: 0.2094061365720394 Validation F1: [0.3697791255656804, 0.4212305564774886, 0.39204816476781673, 0.3040498400384966, 0.19070321539174853, 0.0007114905656350055, 0.0, 0.0, 0.0] Validation Acc: [0.7653025918470056, 0.8653749370910921, 0.8999591092098641, 0.9121634373427278, 0.9145697030699547, 0.9116444388525415, 0.9116129843985908, 0.9116129843985908, 0.9116129843985908]\n",
      "Epoch: 108 Loss: 0.22847441867974083 Validation F1: [0.36734014774482, 0.42133899074419173, 0.3954229925753857, 0.30882895768727164, 0.1994688670393662, 0.0007114905656350055, 0.0, 0.0, 0.0] Validation Acc: [0.7606630598892803, 0.8628428535480624, 0.8986222949169602, 0.9117230749874182, 0.9146640664318068, 0.9116444388525415, 0.9116129843985908, 0.9116129843985908, 0.9116129843985908]\n",
      "Epoch: 110 Loss: 0.24096746048198445 Validation F1: [0.3669945591587348, 0.42144984636950455, 0.39606925097905643, 0.3106200079986615, 0.1995578453495464, 0.0007114905656350055, 0.0, 0.0, 0.0] Validation Acc: [0.7601440613990941, 0.8625597634625063, 0.8985122043281328, 0.9116916205334675, 0.9145854302969301, 0.9116444388525415, 0.9116129843985908, 0.9116129843985908, 0.9116129843985908]\n",
      "Epoch: 112 Loss: 0.22222042845508885 Validation F1: [0.3702269150922674, 0.42179711236298917, 0.3939883903432408, 0.30589984703636225, 0.19364419088237142, 0.0014224750924659406, 0.0, 0.0, 0.0] Validation Acc: [0.7647364116758933, 0.8649974836436839, 0.8998018369401107, 0.9119275289380976, 0.9146011575239054, 0.9116758933064922, 0.9116129843985908, 0.9116129843985908, 0.9116129843985908]\n",
      "Epoch: 114 Loss: 0.24102032007877272 Validation F1: [0.37091924945334953, 0.42098840284828026, 0.39234449263548, 0.30357364789567126, 0.1912421777898973, 0.0014222222044551903, 0.0, 0.0, 0.0] Validation Acc: [0.766340588827378, 0.8656737544036236, 0.9001321087065929, 0.912037619526925, 0.9146011575239054, 0.9116601660795168, 0.9116129843985908, 0.9116129843985908, 0.9116129843985908]\n",
      "Epoch: 116 Loss: 0.21964342333953366 Validation F1: [0.37103191036695016, 0.4207887200430054, 0.392306951299874, 0.30380691293625683, 0.1922619020234145, 0.0017771458788232836, 0.0, 0.0, 0.0] Validation Acc: [0.7662934071464519, 0.8655636638147962, 0.9001163814796175, 0.911990437845999, 0.9146326119778561, 0.9116601660795168, 0.9116129843985908, 0.9116129843985908, 0.9116129843985908]\n",
      "Epoch: 118 Loss: 0.22866439754683598 Validation F1: [0.3708783032520931, 0.421594522141852, 0.3925805476612243, 0.3041749460839931, 0.19265645629545436, 0.0021321961336504603, 0.0, 0.0, 0.0] Validation Acc: [0.7662462254655259, 0.8657052088575742, 0.9000849270256668, 0.9119275289380976, 0.9145854302969301, 0.9116758933064922, 0.9116129843985908, 0.9116129843985908, 0.9116129843985908]\n",
      "Epoch: 120 Loss: 0.21920105595020986 Validation F1: [0.3724402693917107, 0.4207721168947327, 0.39150988408456366, 0.3022499958193694, 0.1902206293627826, 0.0028419182593780474, 0.0, 0.0, 0.0] Validation Acc: [0.7686524911927529, 0.8666802969300453, 0.9008083794665325, 0.9122106190236537, 0.9145697030699547, 0.9117073477604429, 0.9116129843985908, 0.9116129843985908, 0.9116129843985908]\n",
      "Epoch: 122 Loss: 0.2367564484914438 Validation F1: [0.3703984144965595, 0.42231932302910746, 0.3955252130715854, 0.30797773230979597, 0.19621189420963317, 0.003551136321100913, 0.0, 0.0, 0.0] Validation Acc: [0.7646420483140413, 0.8648559386009059, 0.899723200805234, 0.9120061650729744, 0.9145697030699547, 0.9117388022143935, 0.9116129843985908, 0.9116129843985908, 0.9116129843985908]\n",
      "Epoch: 124 Loss: 0.22982958974658466 Validation F1: [0.3707329386998276, 0.42212478449923796, 0.3940173333114296, 0.3078256520321661, 0.194304357948764, 0.004259094889212671, 0.0, 0.0, 0.0] Validation Acc: [0.7654598641167589, 0.8652648465022648, 0.8999591092098641, 0.9120848012078511, 0.9145697030699547, 0.9117545294413689, 0.9116129843985908, 0.9116129843985908, 0.9116129843985908]\n",
      "Early stopping at epoch 126\n"
     ]
    },
    {
     "data": {
      "text/plain": [
       "[<matplotlib.lines.Line2D at 0x7fb5e536b5e0>]"
      ]
     },
     "execution_count": 6,
     "metadata": {},
     "output_type": "execute_result"
    },
    {
     "data": {
      "image/png": "[encoded data removed]",
      "text/plain": [
       "<Figure size 640x480 with 1 Axes>"
      ]
     },
     "metadata": {},
     "output_type": "display_data"
    }
   ],
   "source": [
    "x_t, y_t, x_v, y_v = split_data(x_train_processed, y_train_processed, 0.8)\n",
    "# x_t, y_t = data_augmentation(x_t, y_t)\n",
    "# x_t, _, _, _= pca(x_t, 100)\n",
    "nn = NeuralNetwork([np.shape(x_t)[1], 400, 200, 100, 4, 1],'sigmoid','bce',adam=False)\n",
    "nn_trained, loss = nn.train(x_t, y_t, x_v, y_v, learning_rate=0.03, epochs=1000, batch_size=4062)\n",
    "# y_pred = predict_1(nn_trained,x_v)\n",
    "# predict_acc_pure(y_pred, y_v)\n",
    "# predict_f1_pure(y_pred, y_v)\n",
    "plt.figure()\n",
    "plt.plot(loss)"
   ]
  },
  {
   "cell_type": "code",
   "execution_count": 7,
   "metadata": {},
   "outputs": [],
   "source": [
    "np.savez(\"./no_aug\", network=nn_trained)"
   ]
  },
  {
   "cell_type": "markdown",
   "metadata": {},
   "source": [
    "### Test Submission ###"
   ]
  },
  {
   "cell_type": "code",
   "execution_count": 9,
   "metadata": {},
   "outputs": [],
   "source": [
    "nn = NeuralNetwork.from_saved_weights('./no_aug.npz')\n",
    "best_thre = nn.network[-1]['best_threshold']\n",
    "test_pred = nn.predict_submission(x_test_processed, custom_threshold=best_thre)\n",
    "create_csv_submission(test_ids, test_pred, 'no_aug.csv')"
   ]
  },
  {
   "cell_type": "code",
   "execution_count": 24,
   "metadata": {},
   "outputs": [
    {
     "data": {
      "text/plain": [
       "(100, 4)"
      ]
     },
     "execution_count": 24,
     "metadata": {},
     "output_type": "execute_result"
    }
   ],
   "source": [
    "nn.network[3]['W'].shape"
   ]
  },
  {
   "cell_type": "code",
   "execution_count": null,
   "metadata": {},
   "outputs": [
    {
     "data": {
      "text/plain": [
       "17092"
      ]
     },
     "execution_count": 7,
     "metadata": {},
     "output_type": "execute_result"
    }
   ],
   "source": [
    "np.unique(test_pred)\n",
    "np.sum(test_pred==1)  "
   ]
  },
  {
   "cell_type": "code",
   "execution_count": null,
   "metadata": {},
   "outputs": [
    {
     "ename": "NameError",
     "evalue": "name 'test_pred' is not defined",
     "output_type": "error",
     "traceback": [
      "\u001b[0;31m---------------------------------------------------------------------------\u001b[0m",
      "\u001b[0;31mNameError\u001b[0m                                 Traceback (most recent call last)",
      "\u001b[1;32m/home/ivonne/ML_proj/project1/data_glance.ipynb Cell 52\u001b[0m line \u001b[0;36m1\n\u001b[0;32m----> <a href='vscode-notebook-cell://wsl%2Bubuntu/home/ivonne/ML_proj/project1/data_glance.ipynb#Y102sdnNjb2RlLXJlbW90ZQ%3D%3D?line=0'>1</a>\u001b[0m test_pred\u001b[39m.\u001b[39mshape\n",
      "\u001b[0;31mNameError\u001b[0m: name 'test_pred' is not defined"
     ]
    }
   ],
   "source": [
    "new_pred = np.loadfromcsv('./submission_4_layer_normalize.csv')"
   ]
  },
  {
   "cell_type": "markdown",
   "metadata": {},
   "source": [
    "### Cross Validation ###"
   ]
  },
  {
   "cell_type": "code",
   "execution_count": 5,
   "metadata": {},
   "outputs": [
    {
     "name": "stdout",
     "output_type": "stream",
     "text": [
      "Final accuracy score is:  0.9109433487465006\n",
      "std of accuracy score is:  0.0010537150982820713\n",
      "Final f1 score is:  0.0\n",
      "std of f1 score is:  0.0\n"
     ]
    }
   ],
   "source": [
    "# Random Guess\n",
    "sub_x, sub_y = split_cross_validation(x_train, y_train_processed, 10)\n",
    "# generate random predictions for each fold\n",
    "accs = []\n",
    "f1 = []\n",
    "for i in range(5):\n",
    "    pred = []\n",
    "    pred = np.zeros(sub_y[i].shape)\n",
    "    accs.append(predict_acc_pure(pred, sub_y[i]))\n",
    "    f1.append(predict_f1_pure(pred, sub_y[i]))\n",
    "\n",
    "print(\"Final accuracy score is: \", np.mean(accs))\n",
    "print(\"std of accuracy score is: \", np.std(accs))\n",
    "print(\"Final f1 score is: \", np.mean(f1))\n",
    "print(\"std of f1 score is: \", np.std(f1))"
   ]
  },
  {
   "cell_type": "code",
   "execution_count": 14,
   "metadata": {},
   "outputs": [
    {
     "data": {
      "text/plain": [
       "(63585,)"
      ]
     },
     "execution_count": 14,
     "metadata": {},
     "output_type": "execute_result"
    }
   ],
   "source": [
    "sub_y[i].shape"
   ]
  },
  {
   "cell_type": "code",
   "execution_count": 15,
   "metadata": {},
   "outputs": [
    {
     "data": {
      "text/plain": [
       "(63585,)"
      ]
     },
     "execution_count": 15,
     "metadata": {},
     "output_type": "execute_result"
    }
   ],
   "source": [
    "pred.shape"
   ]
  },
  {
   "cell_type": "code",
   "execution_count": 8,
   "metadata": {},
   "outputs": [
    {
     "ename": "ValueError",
     "evalue": "setting an array element with a sequence. The requested array has an inhomogeneous shape after 1 dimensions. The detected shape was (10,) + inhomogeneous part.",
     "output_type": "error",
     "traceback": [
      "\u001b[0;31m---------------------------------------------------------------------------\u001b[0m",
      "\u001b[0;31mValueError\u001b[0m                                Traceback (most recent call last)",
      "\u001b[1;32m/home/ivonne/ML_proj/project1/data_glance.ipynb Cell 60\u001b[0m line \u001b[0;36m1\n\u001b[1;32m      <a href='vscode-notebook-cell://wsl%2Bubuntu/home/ivonne/ML_proj/project1/data_glance.ipynb#Y114sdnNjb2RlLXJlbW90ZQ%3D%3D?line=7'>8</a>\u001b[0m \u001b[39mfor\u001b[39;00m i \u001b[39min\u001b[39;00m \u001b[39mrange\u001b[39m(\u001b[39m10\u001b[39m):\n\u001b[1;32m      <a href='vscode-notebook-cell://wsl%2Bubuntu/home/ivonne/ML_proj/project1/data_glance.ipynb#Y114sdnNjb2RlLXJlbW90ZQ%3D%3D?line=8'>9</a>\u001b[0m     pred \u001b[39m=\u001b[39m []\n\u001b[0;32m---> <a href='vscode-notebook-cell://wsl%2Bubuntu/home/ivonne/ML_proj/project1/data_glance.ipynb#Y114sdnNjb2RlLXJlbW90ZQ%3D%3D?line=9'>10</a>\u001b[0m     pred \u001b[39m=\u001b[39m nn\u001b[39m.\u001b[39;49mpredict_submission(sub_x, custom_threshold\u001b[39m=\u001b[39;49mbest_thre)\n\u001b[1;32m     <a href='vscode-notebook-cell://wsl%2Bubuntu/home/ivonne/ML_proj/project1/data_glance.ipynb#Y114sdnNjb2RlLXJlbW90ZQ%3D%3D?line=10'>11</a>\u001b[0m     accs\u001b[39m.\u001b[39mappend(predict_acc_pure(pred, sub_y[i]))\n\u001b[1;32m     <a href='vscode-notebook-cell://wsl%2Bubuntu/home/ivonne/ML_proj/project1/data_glance.ipynb#Y114sdnNjb2RlLXJlbW90ZQ%3D%3D?line=11'>12</a>\u001b[0m     f1\u001b[39m.\u001b[39mappend(predict_f1_pure(pred, sub_y[i]))\n",
      "File \u001b[0;32m~/ML_proj/project1/networks.py:209\u001b[0m, in \u001b[0;36mNeuralNetwork.predict_submission\u001b[0;34m(self, X, custom_threshold)\u001b[0m\n\u001b[1;32m    208\u001b[0m \u001b[39mdef\u001b[39;00m \u001b[39mpredict_submission\u001b[39m(\u001b[39mself\u001b[39m, X, custom_threshold\u001b[39m=\u001b[39m\u001b[39mNone\u001b[39;00m):\n\u001b[0;32m--> 209\u001b[0m     prob \u001b[39m=\u001b[39m \u001b[39mself\u001b[39;49m\u001b[39m.\u001b[39;49mforward_propagation(X)[\u001b[39m-\u001b[39m\u001b[39m1\u001b[39m]\u001b[39m.\u001b[39msqueeze()\n\u001b[1;32m    210\u001b[0m     \u001b[39mif\u001b[39;00m custom_threshold \u001b[39mis\u001b[39;00m \u001b[39mNone\u001b[39;00m:\n\u001b[1;32m    211\u001b[0m         threshold \u001b[39m=\u001b[39m \u001b[39m0.5\u001b[39m  \u001b[39m# Default threshold\u001b[39;00m\n",
      "File \u001b[0;32m~/ML_proj/project1/networks.py:63\u001b[0m, in \u001b[0;36mNeuralNetwork.forward_propagation\u001b[0;34m(self, x)\u001b[0m\n\u001b[1;32m     61\u001b[0m a \u001b[39m=\u001b[39m x\n\u001b[1;32m     62\u001b[0m \u001b[39mfor\u001b[39;00m i, layer \u001b[39min\u001b[39;00m \u001b[39menumerate\u001b[39m(\u001b[39mself\u001b[39m\u001b[39m.\u001b[39mnetwork):\n\u001b[0;32m---> 63\u001b[0m     z \u001b[39m=\u001b[39m np\u001b[39m.\u001b[39;49mdot(a, layer[\u001b[39m'\u001b[39;49m\u001b[39mW\u001b[39;49m\u001b[39m'\u001b[39;49m]) \u001b[39m+\u001b[39m layer[\u001b[39m'\u001b[39m\u001b[39mb\u001b[39m\u001b[39m'\u001b[39m]\n\u001b[1;32m     64\u001b[0m     \u001b[39mif\u001b[39;00m i \u001b[39m!=\u001b[39m \u001b[39mlen\u001b[39m(\u001b[39mself\u001b[39m\u001b[39m.\u001b[39mnetwork) \u001b[39m-\u001b[39m \u001b[39m1\u001b[39m:  \u001b[39m# if not output layer\u001b[39;00m\n\u001b[1;32m     65\u001b[0m         a \u001b[39m=\u001b[39m \u001b[39mself\u001b[39m\u001b[39m.\u001b[39mrelu(z)\n",
      "\u001b[0;31mValueError\u001b[0m: setting an array element with a sequence. The requested array has an inhomogeneous shape after 1 dimensions. The detected shape was (10,) + inhomogeneous part."
     ]
    }
   ],
   "source": [
    "# Nerual Network  \n",
    "sub_x, sub_y = split_cross_validation(x_train_processed, y_train_processed, 10)\n",
    "nn = NeuralNetwork.from_saved_weights('./no_aug.npz')\n",
    "best_thre = nn.network[-1]['best_threshold']\n",
    "\n",
    "accs = []\n",
    "f1 = []\n",
    "for i in range(10):\n",
    "    pred = []\n",
    "    pred = nn.predict_submission(sub_x, custom_threshold=best_thre)\n",
    "    accs.append(predict_acc_pure(pred, sub_y[i]))\n",
    "    f1.append(predict_f1_pure(pred, sub_y[i]))\n",
    "\n",
    "print(\"Final accuracy score is: \", np.mean(accs))\n",
    "print(\"std of accuracy score is: \", np.std(accs))\n",
    "print(\"Final f1 score is: \", np.mean(f1))\n",
    "print(\"std of f1 score is: \", np.std(f1))"
   ]
  }
 ],
 "metadata": {
  "kernelspec": {
   "display_name": "ML",
   "language": "python",
   "name": "python3"
  },
  "language_info": {
   "codemirror_mode": {
    "name": "ipython",
    "version": 3
   },
   "file_extension": ".py",
   "mimetype": "text/x-python",
   "name": "python",
   "nbconvert_exporter": "python",
   "pygments_lexer": "ipython3",
   "version": "3.10.12"
  }
 },
 "nbformat": 4,
 "nbformat_minor": 2
}
